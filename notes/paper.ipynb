{
 "cells": [
  {
   "cell_type": "code",
   "execution_count": 1,
   "metadata": {
    "collapsed": false
   },
   "outputs": [
    {
     "name": "stdout",
     "output_type": "stream",
     "text": [
      "changing directory"
     ]
    },
    {
     "name": "stdout",
     "output_type": "stream",
     "text": [
      "\n"
     ]
    }
   ],
   "source": [
    "import ryn\n",
    "\n",
    "from ryn.common import helper\n",
    "helper.notebook()\n",
    "\n",
    "%load_ext autoreload\n",
    "%autoreload 2"
   ]
  },
  {
   "cell_type": "code",
   "execution_count": 2,
   "metadata": {
    "collapsed": false
   },
   "outputs": [],
   "source": [
    "# https://htmlcolorcodes.com/color-chart/material-design-color-chart/\n",
    "\n",
    "C = {\n",
    "    'grey': [\n",
    "        '#fafafa', '#f5f5f5', '#eeeeee', '#e0e0e0', '#bdbdbd', '#9e9e9e', '#757575', '#616161', '#424242', '#212121'\n",
    "    ],\n",
    "    'blue grey': [\n",
    "        '#eceff1', '#cfd8dc', '#b0bec5', '#90a4ae', '#78909c', '#607d8b', '#546e7a', '#455a64', '#37474f', '#263238'\n",
    "    ],\n",
    "    'brown': [\n",
    "        '#efebe9', '#d7ccc8', '#bcaaa4', '#a1887f', '#8d6e63', '#795548', '#6d4c41', '#5d4037', '#4e342e', '#3e2723'\n",
    "    ],\n",
    "    'pink': [\n",
    "        '#fce4ec', '#f8bbd0', '#f48fb1', '#f06292', '#ec407a', '#e91e63', '#d81b60', '#c2185b', '#ad1457', '#880e4f', '#ff80ab', '#ff4081', '#f50057', '#c51162'\n",
    "    ],\n",
    "    'blue': [\n",
    "        '#e3f2fd', '#bbdefb', '#90caf9', '#64b5f6', '#42a5f5', '#2196f3', '#1e88e5', '#1976d2', '#1565c0', '#0d47a1', '#82b1ff', '#448aff', '#2979ff', '#2962ff'\n",
    "    ],\n",
    "    'amber': [\n",
    "        '#fff8e1', '#ffecb3', '#ffe082', '#ffd54f', '#ffca28', '#ffc107', '#ffb300', '#ffa000', '#ff8f00', '#ff6f00', '#ffe57f', '#ffd740', '#ffc400', '#ffab00'\n",
    "    ],\n",
    "}"
   ]
  },
  {
   "cell_type": "code",
   "execution_count": null,
   "metadata": {
    "collapsed": false
   },
   "outputs": [],
   "source": [
    "import PIL as pil\n",
    "import PIL.ImageDraw\n",
    "\n",
    "import numpy as np\n",
    "import matplotlib.pyplot as plt\n",
    "\n",
    "from itertools import zip_longest\n",
    "\n",
    "def f():\n",
    "    P = 10\n",
    "    N = 150\n",
    "\n",
    "    offset, size = N + P, N - P\n",
    "    height, width = offset * len(C), offset * max(len(clr) for clr in C.values())\n",
    "\n",
    "    img = pil.Image.new('RGB', (width, height), color='white')\n",
    "    draw = pil.ImageDraw.Draw(img)\n",
    "\n",
    "    for name, y in zip(C, range(P, height, offset)):\n",
    "        if not name:\n",
    "            continue\n",
    "\n",
    "        for j, (x, val) in enumerate(zip_longest(range(P, width, offset), C[name])):\n",
    "            if not x:\n",
    "                continue\n",
    "\n",
    "            draw.rectangle((x, y, (x + size), (y + size)), fill=val)\n",
    "\n",
    "    plt.imshow(np.asarray(img))\n",
    "\n",
    "f()"
   ]
  },
  {
   "cell_type": "code",
   "execution_count": 3,
   "metadata": {
    "collapsed": false
   },
   "outputs": [
    {
     "name": "stdout",
     "output_type": "stream",
     "text": [
      "s01 [irt.fb.irt.30.masked]"
     ]
    },
    {
     "name": "stdout",
     "output_type": "stream",
     "text": [
      " "
     ]
    },
    {
     "name": "stdout",
     "output_type": "stream",
     "text": [
      "+ 76 more"
     ]
    },
    {
     "name": "stdout",
     "output_type": "stream",
     "text": [
      "\n"
     ]
    }
   ],
   "source": [
    "from ryn.text import util\n",
    "\n",
    "def f():\n",
    "    exps = util.Experiments('data/iea.irt.sheet.csv')\n",
    "    data = {f'{exp.exp} [{exp.identifier}.{exp.sentences}.{exp.mode}]': exp for exp in exps}\n",
    "    assert len(exps) == len(data)\n",
    "    return data\n",
    "\n",
    "data = f()\n",
    "print(list(data)[0], f'+ {len(data)} more')"
   ]
  },
  {
   "cell_type": "code",
   "execution_count": 8,
   "metadata": {
    "collapsed": false
   },
   "outputs": [
    {
     "name": "stdout",
     "output_type": "stream",
     "text": [
      "loaded metrics for 70/76 experiments"
     ]
    },
    {
     "name": "stdout",
     "output_type": "stream",
     "text": [
      "\n"
     ]
    }
   ],
   "source": [
    "import yaml\n",
    "from dataclasses import replace\n",
    "\n",
    "def f(data):\n",
    "    # load full evaluation data\n",
    "    new, count = {}, 0\n",
    "    for name, exp in ((name, exp) for name, exp in data.items() if exp.checkpoint):\n",
    "\n",
    "        try:\n",
    "            path = exp.path\n",
    "        except ryn.RynError:\n",
    "            continue\n",
    "\n",
    "        yml_file = path / 'ryn' / ('evaluation.' + exp.checkpoint + '.yml')\n",
    "        if not yml_file.exists():\n",
    "            continue\n",
    "\n",
    "        with yml_file.open(mode='r') as fd:\n",
    "            metrics = yaml.load(fd, Loader=yaml.FullLoader)\n",
    "\n",
    "        exp = replace(exp, metrics=metrics[exp.checkpoint])\n",
    "        count += 1\n",
    "        new[name] = exp\n",
    "\n",
    "    print(f'loaded metrics for {count}/{len(data)} experiments')\n",
    "    return new\n",
    "\n",
    "data = f(data)"
   ]
  },
  {
   "cell_type": "code",
   "execution_count": 5,
   "metadata": {
    "collapsed": false
   },
   "outputs": [],
   "source": [
    "from ryn.common import plotter\n",
    "path = helper.path(ryn.ENV.DATA_DIR / 'paper',  create=True)"
   ]
  },
  {
   "cell_type": "markdown",
   "metadata": {
    "collapsed": false
   },
   "source": [
    "# PLOTS"
   ]
  },
  {
   "cell_type": "code",
   "execution_count": 21,
   "metadata": {
    "collapsed": false
   },
   "outputs": [
    {
     "data": {
      "image/png": "[encoded data removed]",
      "text/plain": [
       "<Figure size 432x288 with 1 Axes>"
      ]
     },
     "metadata": {},
     "output_type": "display_data"
    },
    {
     "name": "stdout",
     "output_type": "stream",
     "text": [
      "cannot find m02 [irt.cde.irt.5.clean]"
     ]
    },
    {
     "name": "stdout",
     "output_type": "stream",
     "text": [
      "\n"
     ]
    },
    {
     "name": "stdout",
     "output_type": "stream",
     "text": [
      "cannot find m02 [irt.cde.irt.15.masked]"
     ]
    },
    {
     "name": "stdout",
     "output_type": "stream",
     "text": [
      "\n"
     ]
    },
    {
     "data": {
      "image/png": "[encoded data removed]",
      "text/plain": [
       "<Figure size 432x288 with 1 Axes>"
      ]
     },
     "metadata": {},
     "output_type": "display_data"
    }
   ],
   "source": [
    "def f(\n",
    "        data,\n",
    "        identifier: str = None,   # e.g. irt.fb.irt\n",
    "        title: str = None,\n",
    "):\n",
    "    assert identifier\n",
    "    assert title\n",
    "\n",
    "    colors = [C['brown'][5], C['amber'][9], C['blue'][5], C['grey'][5]]\n",
    "    marker = ['.', '|', 'x', '+']\n",
    "\n",
    "    steps = (5, 15, 30)\n",
    "\n",
    "    plt = plotter.Plotter(\n",
    "        title=title,\n",
    "        xlabel='Context Count',\n",
    "        ylabel='hits@10',\n",
    "        fname=str(path / f'plot-ctxlen-{identifier.replace(\".\", \"-\")}')\n",
    "    )\n",
    "\n",
    "    # baseline\n",
    "\n",
    "    # plt.ax.plot(\n",
    "    #     steps,\n",
    "    #     [0.1468, 0.1689, 0.1708],\n",
    "    #     color=colors[-1],\n",
    "    #     marker=marker[-1],\n",
    "    #     markersize=10,\n",
    "    #     label='baseline')\n",
    "\n",
    "    # loaded values\n",
    "\n",
    "    def gen():\n",
    "        for i, mode in enumerate(('marked', 'clean', 'masked')):\n",
    "            for exp in ('m02', ):\n",
    "                yield i, mode, exp\n",
    "\n",
    "    for i, mode, exp in gen():\n",
    "        x, y = steps, []\n",
    "        for sents in steps:\n",
    "            key = f'{exp} [{identifier}.{sents}.{mode}]'\n",
    "            if key not in data or not data[key].metrics:\n",
    "                print(f'cannot find {key}')\n",
    "                y.append(None)\n",
    "                continue\n",
    "\n",
    "            y.append(data[key].metrics['test']['hits_at_k']['both']['avg'][10])\n",
    "\n",
    "        plt.ax.plot(\n",
    "            x, y,\n",
    "            color=colors[i],\n",
    "            marker=marker[i],\n",
    "            markersize=10,\n",
    "            label=mode)\n",
    "\n",
    "    plt.ax.set_ylim(ymin=0.2, ymax=0.375)\n",
    "    plt.ax.legend(loc='lower right')\n",
    "    plt.plot()\n",
    "\n",
    "f(data, identifier='irt.fb.irt', title=\"IRT-FB hits@10 (CLS Aggregator)\")\n",
    "f(data, identifier='irt.cde.irt', title='IRT-CDE hits@10 (CLS Aggregator)')\n",
    "# list(data.keys())"
   ]
  },
  {
   "cell_type": "markdown",
   "metadata": {
    "collapsed": false
   },
   "source": [
    "# TABLES"
   ]
  },
  {
   "cell_type": "code",
   "execution_count": 13,
   "metadata": {
    "collapsed": false
   },
   "outputs": [],
   "source": [
    "import numpy as np\n",
    "from datetime import datetime\n",
    "from tabulate import tabulate"
   ]
  },
  {
   "cell_type": "markdown",
   "metadata": {
    "collapsed": false
   },
   "source": [
    "## Big Overview\n",
    "\n",
    "Comparing different text modes and mapper configurations."
   ]
  },
  {
   "cell_type": "code",
   "execution_count": 19,
   "metadata": {
    "collapsed": false
   },
   "outputs": [
    {
     "name": "stdout",
     "output_type": "stream",
     "text": [
      "%% generated 2021-01-16 11:19:34.965183"
     ]
    },
    {
     "name": "stdout",
     "output_type": "stream",
     "text": [
      "\n"
     ]
    },
    {
     "name": "stdout",
     "output_type": "stream",
     "text": [
      "\\begin{tabular}{lllllllllll}\n",
      "\\hline\n",
      " marked & single & max\\textdagger & 9.44           & 16.38          & 19.75          & 13.08          & 12.35          & 21.57          & 26.22          & 16.90          \\\\\n",
      " marked & single & max            & 8.68           & 15.60          & 19.47          & 12.45          & 0              & 0              & 0              & 0              \\\\\n",
      " marked & single & cls            & 10.39          & 18.14          & 22.75          & 14.68          & 15.44          & 26.99          & 32.15          & 21.11          \\\\\n",
      " marked & multi  & cls            & 11.20          & 21.19          & 26.86          & 16.55          & 17.74          & 30.43          & 36.18          & 24.07          \\\\\n",
      " clean  & single & max\\textdagger & 9.64           & 16.57          & 20.29          & 13.31          & 11.90          & 21.60          & 25.88          & 16.65          \\\\\n",
      " clean  & single & max            & 11.39          & 20.74          & 25.34          & 16.14          & 7.76           & 15.84          & 21.76          & 12.36          \\\\\n",
      " clean  & single & cls            & 11.52          & 20.77          & 25.45          & 16.29          & 0              & 0              & 0              & 0              \\\\\n",
      " clean  & multi  & cls            & 12.19          & 23.54          & 29.60          & 18.07          & 15.33          & 26.47          & 31.39          & 20.82          \\\\\n",
      " masked & single & max\\textdagger & 8.65           & 15.18          & 18.61          & 12.09          & 11.38          & 20.37          & 25.00          & 15.82          \\\\\n",
      " masked & single & max            & 11.00          & 19.22          & 23.69          & 15.33          & 0              & 0              & 0              & 0              \\\\\n",
      " masked & single & cls            & 12.61          & 22.40          & 27.62          & 17.72          & 17.11          & 28.60          & 33.77          & 22.78          \\\\\n",
      " masked & multi  & cls            & \\textbf{13.82} & \\textbf{27.16} & \\textbf{34.18} & \\textbf{20.61} & \\textbf{19.48} & \\textbf{32.64} & \\textbf{38.25} & \\textbf{25.88} \\\\\n",
      "\\hline\n",
      "\\end{tabular}"
     ]
    },
    {
     "name": "stdout",
     "output_type": "stream",
     "text": [
      "\n"
     ]
    }
   ],
   "source": [
    "def f():\n",
    "\n",
    "    def gen():\n",
    "        for mode in ('marked', 'clean', 'masked'):\n",
    "            for exp in ('s03', 's02', 's01', 'm02'):\n",
    "                yield mode, exp\n",
    "\n",
    "    rows, blocks = [], []\n",
    "\n",
    "    for mode, expname in gen():\n",
    "        row = [\n",
    "            mode,\n",
    "            'single' if expname.startswith('s') else 'multi',\n",
    "            {'s01': 'cls', 's02': 'max', 's03': 'max\\\\textdagger', 'm02': 'cls'}[expname],\n",
    "        ]\n",
    "\n",
    "        for split in ('fb', 'cde'):\n",
    "            exp = data.get(f'{expname} [irt.{split}.irt.30.{mode}]', None)\n",
    "            if not exp:\n",
    "                row += [0 for _ in range(4)]\n",
    "            else:\n",
    "                metrics = exp.metrics['test']\n",
    "                row += [\n",
    "                    metrics['hits_at_k']['both']['avg'][1],\n",
    "                    metrics['hits_at_k']['both']['avg'][5],\n",
    "                    metrics['hits_at_k']['both']['avg'][10],\n",
    "                    metrics['mean_reciprocal_rank']['both']['avg'],\n",
    "                ]\n",
    "\n",
    "        rows.append(row)\n",
    "\n",
    "    skip = 3\n",
    "    maxvals = np.argmax(np.array([\n",
    "        row[skip:] for row in rows\n",
    "    ]), axis=0)\n",
    "    maxvals = [None for _ in range(skip)] + list(maxvals)\n",
    "\n",
    "    def fmt(val, row_idx, col_idx):\n",
    "        if not type(val) is float:\n",
    "            return val\n",
    "\n",
    "        val = f'{val * 100:5.2f}'\n",
    "        if maxvals[col_idx] == row_idx:\n",
    "            return f'\\\\textbf{{{val}}}'\n",
    "\n",
    "        return val\n",
    "\n",
    "    rows = [[fmt(cell, i, j) for j, cell in enumerate(row)] for i, row in enumerate(rows)]\n",
    "\n",
    "    print(f'%% generated {datetime.now()}')\n",
    "    print(tabulate(rows, tablefmt='latex_raw'))\n",
    "\n",
    "f()"
   ]
  },
  {
   "cell_type": "markdown",
   "metadata": {
    "collapsed": false
   },
   "source": [
    "## Single-Sentence Comparison\n",
    "\n",
    "Using a single sentence per entity with IRT (random),\n",
    "OWE (wikidata description), and CDE (first Wikipedia page sentence)"
   ]
  },
  {
   "cell_type": "code",
   "execution_count": null,
   "metadata": {
    "collapsed": false
   },
   "outputs": [],
   "source": []
  }
 ],
 "metadata": {
  "kernelspec": {
   "argv": [
    "python",
    "-m",
    "ipykernel_launcher",
    "-f",
    "{connection_file}"
   ],
   "display_name": "Python 3",
   "env": null,
   "interrupt_mode": "signal",
   "language": "python",
   "metadata": null,
   "name": "python3"
  },
  "language_info": {
   "codemirror_mode": {
    "name": "ipython",
    "version": 3
   },
   "file_extension": ".py",
   "mimetype": "text/x-python",
   "name": "python",
   "nbconvert_exporter": "python",
   "pygments_lexer": "ipython3",
   "version": "3.8.3"
  },
  "name": "paper.ipynb"
 },
 "nbformat": 4,
 "nbformat_minor": 4
}
