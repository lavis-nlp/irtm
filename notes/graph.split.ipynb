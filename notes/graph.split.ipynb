{
 "cells": [
  {
   "cell_type": "code",
   "execution_count": 1,
   "metadata": {
    "autoscroll": false,
    "ein.hycell": false,
    "ein.tags": "worksheet-0",
    "slideshow": {
     "slide_type": "-"
    }
   },
   "outputs": [
    {
     "name": "stdout",
     "output_type": "stream",
     "text": [
      "changing directory\n"
     ]
    }
   ],
   "source": [
    "%load_ext autoreload\n",
    "%autoreload 2\n",
    "\n",
    "from ryn.common import helper\n",
    "helper.notebook()"
   ]
  },
  {
   "cell_type": "code",
   "execution_count": 2,
   "metadata": {
    "autoscroll": false,
    "ein.hycell": false,
    "ein.tags": "worksheet-0",
    "slideshow": {
     "slide_type": "-"
    }
   },
   "outputs": [
    {
     "name": "stdout",
     "output_type": "stream",
     "text": [
      "loaded ryn graph: oke.fb15k237-trainvalidtest\n",
      "  nodes: 14541\n",
      "  edges: 310116 (237 types)\n",
      "  degree:\n",
      "    mean 42.65\n",
      "    median 26\n",
      "\n",
      "retrieved 237 relations\n"
     ]
    }
   ],
   "source": [
    "from ryn.graphs import split\n",
    "from ryn.graphs import loader\n",
    "\n",
    "g = loader.load_graphs_from_uri('oke.fb15k237-trainvalidtest')[0]\n",
    "print(f'loaded {g.str_stats}')\n",
    "\n",
    "rels = split.Relation.from_graph(g)\n",
    "rels.sort(key=lambda rel: rel.ratio)\n",
    "print(f'retrieved {len(rels)} relations')"
   ]
  },
  {
   "cell_type": "code",
   "execution_count": 5,
   "metadata": {
    "autoscroll": false,
    "ein.hycell": false,
    "ein.tags": "worksheet-0",
    "slideshow": {
     "slide_type": "-"
    }
   },
   "outputs": [
    {
     "name": "stdout",
     "output_type": "stream",
     "text": [
      "first 5\n",
      "-  ---  -----------  ----  -  ---------------------------------------------------------------------------------------------------\n",
      "1   25  0.000229148  4364  1  /common/topic/webpage./common/webpage/category\n",
      "2   43  0.000441501  4530  2  /people/person/gender\n",
      "3  120  0.0010352     966  1  /location/hud_foreclosure_area/estimated_number_of_mortgages./measurement_unit/dated_integer/source\n",
      "4   85  0.00119976   3334  4  /people/person/spouse_s./people/marriage/type_of_union\n",
      "5  118  0.0020284     493  1  /user/tsegaran/random/taxonomy_subject/entry./user/tsegaran/random/taxonomy_entry/taxonomy\n",
      "-  ---  -----------  ----  -  ---------------------------------------------------------------------------------------------------\n"
     ]
    }
   ],
   "source": [
    "from tabulate import tabulate\n",
    "\n",
    "rows = [(i, r.r, r.ratio, len(r.hs), len(r.ts), r.name) for i, r in enumerate(rels, 1)]\n",
    "\n",
    "N = 10\n",
    "\n",
    "print(f'first {N}')\n",
    "print(tabulate(rows[:N]))\n",
    "\n",
    "# print(f'mid {N}')\n",
    "# m = len(rows) / 2\n",
    "# print(tabulate(rows[int(m-N/2):int(m+N/2)]))\n",
    "\n",
    "# print(f'last {N}')\n",
    "# print(tabulate(rows[-N:]))"
   ]
  },
  {
   "cell_type": "code",
   "execution_count": 25,
   "metadata": {
    "scrolled": false
   },
   "outputs": [
    {
     "name": "stdout",
     "output_type": "stream",
     "text": [
      "\n",
      "i=1 0.2879 /film/film_subject/films\n",
      "     Vietnam War\n",
      "     19th century\n",
      "     Gulf War\n",
      "     Margaret Thatcher\n",
      "     bisexuality\n"
     ]
    }
   ],
   "source": [
    "N, M = 150, 5\n",
    "\n",
    "whitelist = set(('/film/film_subject/films', ))\n",
    "\n",
    "#gen = rels[:N]\n",
    "gen = [r for r in rels if r.name in whitelist]\n",
    "\n",
    "for i, r in enumerate(gen, 1):\n",
    "    print(f'\\n{i=} {r.ratio:2.4f} {r.name[:100]}')\n",
    "    ents = r.hs if len(r.hs) < len(r.ts) else r.ts\n",
    "    for e in list(ents)[:M]:\n",
    "        print('    ', g.source.ents[e])"
   ]
  },
  {
   "cell_type": "code",
   "execution_count": 23,
   "metadata": {
    "autoscroll": false,
    "ein.hycell": false,
    "ein.tags": "worksheet-0",
    "slideshow": {
     "slide_type": "-"
    }
   },
   "outputs": [
    {
     "name": "stdout",
     "output_type": "stream",
     "text": [
      "\n"
     ]
    },
    {
     "data": {
      "image/png": "[encoded data removed]",
      "text/plain": [
       "<Figure size 432x288 with 1 Axes>"
      ]
     },
     "metadata": {},
     "output_type": "display_data"
    },
    {
     "name": "stdout",
     "output_type": "stream",
     "text": [
      "\n"
     ]
    }
   ],
   "source": [
    "import ryn\n",
    "from ryn.common import plotter\n",
    "\n",
    "path = ryn.ENV.SPLIT_DIR / f'{g.name}.ratio'\n",
    "path.parent.mkdir(exist_ok=True, parents=True)\n",
    "\n",
    "plt = plotter.Plotter(title=f'Ratio Distribution {g.name}', xlabel='Relation', ylabel='Ratio', fname=str(path))\n",
    "plt.ax.scatter(range(len(rels)), [r.ratio for r in rels], color=plotter.CLR[0], s=1)\n",
    "plt.ax.vlines(100, 0, 1, color=plotter.CLR[0], linestyle='dotted')\n",
    "\n",
    "print()\n",
    "plt.plot()\n",
    "print()"
   ]
  }
 ],
 "metadata": {
  "kernelspec": {
   "display_name": "Python 3",
   "language": "python",
   "name": "python3"
  },
  "language_info": {
   "codemirror_mode": {
    "name": "ipython",
    "version": 3
   },
   "file_extension": ".py",
   "mimetype": "text/x-python",
   "name": "python",
   "nbconvert_exporter": "python",
   "pygments_lexer": "ipython3",
   "version": "3.8.6"
  },
  "name": "graph.split.ipynb"
 },
 "nbformat": 4,
 "nbformat_minor": 4
}
