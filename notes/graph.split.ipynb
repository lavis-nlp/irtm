{
 "cells": [
  {
   "cell_type": "code",
   "execution_count": 1,
   "metadata": {
    "collapsed": false
   },
   "outputs": [
    {
     "name": "stdout",
     "output_type": "stream",
     "text": [
      "changing directory\n"
     ]
    }
   ],
   "source": [
    "%load_ext autoreload\n",
    "%autoreload 2\n",
    "\n",
    "import os\n",
    "import pathlib\n",
    "cwd = pathlib.Path.cwd()\n",
    "if cwd.name != 'ryn':\n",
    "    print('changing directory')\n",
    "    os.chdir(cwd.parent)\n",
    "\n",
    "import logging\n",
    "logger = logging.getLogger()\n",
    "\n",
    "# seeds = [30061990, 8051991, 25031990, 2041992]\n",
    "seeds = [30061990, ]\n",
    "logger.setLevel(logging.INFO)"
   ]
  },
  {
   "cell_type": "code",
   "execution_count": 2,
   "metadata": {
    "collapsed": false
   },
   "outputs": [
    {
     "name": "stdout",
     "output_type": "stream",
     "text": [
      "loaded ryn graph: oke.fb15k237-trainvalidtest\n",
      "  nodes: 14541\n",
      "  edges: 310116 (237 types)\n",
      "  degree:\n",
      "    mean 42.65\n",
      "    median 26\n",
      "\n",
      "retrieved 237 relations\n"
     ]
    }
   ],
   "source": [
    "from ryn.graphs import split\n",
    "from ryn.graphs import loader\n",
    "\n",
    "g = loader.load_graphs_from_uri('oke.fb15k237-trainvalidtest')[0]\n",
    "print(f'loaded {g.str_stats}')\n",
    "\n",
    "rels = split.Relation.from_graph(g)\n",
    "rels.sort(key=lambda rel: rel.ratio)\n",
    "print(f'retrieved {len(rels)} relations')"
   ]
  },
  {
   "cell_type": "code",
   "execution_count": null,
   "metadata": {
    "collapsed": false
   },
   "outputs": [],
   "source": [
    "from tabulate import tabulate\n",
    "\n",
    "rows = [(r.r, r.ratio, len(r.hs), len(r.ts), r.name) for r in rels]\n",
    "\n",
    "N = 5\n",
    "\n",
    "print(f'first {N}')\n",
    "print(tabulate(rows[:N]))\n",
    "\n",
    "print(f'mid {N}')\n",
    "m = len(rows) / 2\n",
    "print(tabulate(rows[int(m-N/2):int(m+N/2)]))\n",
    "\n",
    "print(f'last {N}')\n",
    "print(tabulate(rows[-N:]))"
   ]
  },
  {
   "cell_type": "code",
   "execution_count": null,
   "metadata": {
    "collapsed": false
   },
   "outputs": [],
   "source": [
    "import ryn\n",
    "from ryn.common import plotter\n",
    "\n",
    "path = ryn.ENV.SPLIT_DIR / f'{g.name}.ratio'\n",
    "path.parent.mkdir(exist_ok=True, parents=True)\n",
    "\n",
    "plt = plotter.Plotter(title=f'Ratio Distribution {g.name}', xlabel='Relation', ylabel='Ratio', fname=str(path))\n",
    "plt.ax.scatter(range(len(rels)), [r.ratio for r in rels], color=plotter.CLR[0], s=1)\n",
    "\n",
    "print()\n",
    "plt.plot()\n",
    "print()"
   ]
  },
  {
   "cell_type": "code",
   "execution_count": 4,
   "metadata": {
    "collapsed": false
   },
   "outputs": [
    {
     "name": "stdout",
     "output_type": "stream",
     "text": [
      "creating a hard split, keeping concepts of 50 relations\n",
      "done\n"
     ]
    }
   ],
   "source": [
    "import ryn\n",
    "\n",
    "rows = []\n",
    "for i in range(5, 6):\n",
    "    cfg = split.Config(\n",
    "        owcw_split=0.7,\n",
    "        trainvalid_split=0.7,\n",
    "        threshold=i * 10)\n",
    "\n",
    "    print(f'creating a hard split, keeping concepts of {cfg.threshold} relations')\n",
    "    for stats in split.create(g, cfg, rels, seeds):\n",
    "        rows.append(stats)\n",
    "        print('done')\n",
    "\n",
    "split.stats_rows(ryn.ENV.SPLIT_DIR, rows)"
   ]
  }
 ],
 "metadata": {
  "kernelspec": {
   "argv": [
    "python",
    "-m",
    "ipykernel_launcher",
    "-f",
    "{connection_file}"
   ],
   "display_name": "Python 3",
   "env": null,
   "interrupt_mode": "signal",
   "language": "python",
   "metadata": null,
   "name": "python3"
  },
  "language_info": {
   "codemirror_mode": {
    "name": "ipython",
    "version": 3
   },
   "file_extension": ".py",
   "mimetype": "text/x-python",
   "name": "python",
   "nbconvert_exporter": "python",
   "pygments_lexer": "ipython3",
   "version": "3.8.2"
  },
  "name": "graph.split.ipynb"
 },
 "nbformat": 4,
 "nbformat_minor": 4
}
