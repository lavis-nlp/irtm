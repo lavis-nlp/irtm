{
 "cells": [
  {
   "cell_type": "code",
   "execution_count": 2,
   "metadata": {},
   "outputs": [
    {
     "name": "stdout",
     "output_type": "stream",
     "text": [
      "changing directory\n"
     ]
    }
   ],
   "source": [
    "import ryn\n",
    "from ryn.common import helper\n",
    "helper.notebook()"
   ]
  },
  {
   "cell_type": "markdown",
   "metadata": {},
   "source": [
    "# Closed-World Knowledge Graph Completion\n",
    "\n",
    "* Current implementation saves json files (subject to change)\n",
    "* Evaluation has different modes: validation, testing (if any - not for vll.owe), all (all closed-world triples)"
   ]
  },
  {
   "cell_type": "code",
   "execution_count": 4,
   "metadata": {},
   "outputs": [
    {
     "name": "stdout",
     "output_type": "stream",
     "text": [
      "/data/dok/felix/deepkg/ryn/data/kgc\n"
     ]
    }
   ],
   "source": [
    "kgc_root_dir = ryn.ENV.KGC_DIR\n"
   ]
  },
  {
   "cell_type": "markdown",
   "metadata": {},
   "source": [
    "# Open-World Knowledge Graph Completion"
   ]
  }
 ],
 "metadata": {
  "kernelspec": {
   "display_name": "Python 3",
   "language": "python",
   "name": "python3"
  },
  "language_info": {
   "codemirror_mode": {
    "name": "ipython",
    "version": 3
   },
   "file_extension": ".py",
   "mimetype": "text/x-python",
   "name": "python",
   "nbconvert_exporter": "python",
   "pygments_lexer": "ipython3",
   "version": "3.8.6"
  }
 },
 "nbformat": 4,
 "nbformat_minor": 4
}
