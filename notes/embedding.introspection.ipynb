{
 "cells": [
  {
   "cell_type": "markdown",
   "metadata": {},
   "source": [
    "# Embedding Introspection\n",
    "\n",
    "Gather statistical clues about both text and graph embeddings"
   ]
  },
  {
   "cell_type": "code",
   "execution_count": 1,
   "metadata": {},
   "outputs": [
    {
     "name": "stderr",
     "output_type": "stream",
     "text": [
      "/amigo/LAVIS/felix/conda/envs/ryn/lib/python3.8/site-packages/torch/serialization.py:649: SourceChangeWarning: source code of class 'torch.nn.modules.sparse.Embedding' has changed. you can retrieve the original source code by accessing the object's source attribute or set `torch.nn.Module.dump_patches = True` and use the patch tool to revert the changes.\n",
      "  warnings.warn(msg, SourceChangeWarning)\n"
     ]
    }
   ],
   "source": [
    "import ryn\n",
    "from ryn.text import data\n",
    "from ryn.text import mapper\n",
    "from ryn.embers import keen\n",
    "\n",
    "import torch\n",
    "import transformers as tf\n",
    "\n",
    "dataset = 'oke.fb15k237_30061990_50'\n",
    "kgc_model_name = 'DistMult-256-2020.08.12.120540.777006'\n",
    "text_model_name = 'bert-base-cased'\n",
    "text_dataset_name = f'{text_model_name}.200.768-small'\n",
    "\n",
    "kgc_model = keen.Model.from_path(ryn.ENV.EMBER_DIR / dataset / kgc_model_name)\n",
    "text_dataset = data.Dataset.load(path=(ryn.ENV.TEXT_DIR / 'data' / dataset / text_dataset_name))\n",
    "text_tokenizer = data.Tokenizer(model=text_model_name)\n",
    "text_encoder = tf.BertModel.from_pretrained(text_model_name, cache_dir=ryn.ENV.CACHE_DIR / 'lib.transformers')"
   ]
  },
  {
   "cell_type": "code",
   "execution_count": 3,
   "metadata": {},
   "outputs": [
    {
     "name": "stdout",
     "output_type": "stream",
     "text": [
      "shape: torch.Size([9679, 256])\n",
      "max: 0.478 min: -0.442, avg: -0.001, std: 0.062\n"
     ]
    }
   ],
   "source": [
    "E = kgc_model.keen.entity_embeddings.weight\n",
    "print(f'shape: {E.shape}')\n",
    "print(f'max: {E.max():2.3f} min: {E.min():2.3f}, avg: {E.mean():2.3f}, std: {E.std():2.3f}')"
   ]
  },
  {
   "cell_type": "code",
   "execution_count": 4,
   "metadata": {},
   "outputs": [],
   "source": [
    "import torch.utils.data as torch_data\n",
    "text_mapped_dataset = mapper.Dataset(part=text_dataset.cw_train)\n",
    "text_dataloader = torch_data.DataLoader(text_mapped_dataset, batch_size=100, collate_fn=mapper.collate_fn)"
   ]
  },
  {
   "cell_type": "code",
   "execution_count": 6,
   "metadata": {},
   "outputs": [],
   "source": [
    "it = iter(text_dataloader)\n",
    "sentences, entities = next(it)\n",
    "\n",
    "mask = text_tokenizer.base.vocab['[MASK]']\n",
    "attention_mask = (sentences > 0) | (sentences == mask)\n",
    "attention_mask = attention_mask.to(dtype=torch.long)\n",
    "Y = text_encoder(input_ids=sentences, attention_mask=attention_mask)[0]"
   ]
  },
  {
   "cell_type": "code",
   "execution_count": 7,
   "metadata": {},
   "outputs": [
    {
     "name": "stdout",
     "output_type": "stream",
     "text": [
      "shape: torch.Size([100, 207, 768])\n",
      "max: 7.630 min: -9.840, avg: -0.002, std: 0.462\n"
     ]
    }
   ],
   "source": [
    "print(f'shape: {Y.shape}')\n",
    "print(f'max: {Y.max():2.3f} min: {Y.min():2.3f}, avg: {Y.mean():2.3f}, std: {Y.std():2.3f}')"
   ]
  }
 ],
 "metadata": {
  "kernelspec": {
   "display_name": "Python 3",
   "language": "python",
   "name": "python3"
  },
  "language_info": {
   "codemirror_mode": {
    "name": "ipython",
    "version": 3
   },
   "file_extension": ".py",
   "mimetype": "text/x-python",
   "name": "python",
   "nbconvert_exporter": "python",
   "pygments_lexer": "ipython3",
   "version": "3.8.3"
  }
 },
 "nbformat": 4,
 "nbformat_minor": 4
}
