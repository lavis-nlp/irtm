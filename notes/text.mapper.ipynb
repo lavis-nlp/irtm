{
 "cells": [
  {
   "cell_type": "code",
   "execution_count": null,
   "metadata": {
    "collapsed": false
   },
   "outputs": [],
   "source": [
    "import ryn"
   ]
  },
  {
   "cell_type": "code",
   "execution_count": null,
   "metadata": {
    "collapsed": false
   },
   "outputs": [],
   "source": [
    "text_encoder_name = 'bert-base-cased'\n",
    "dataset = 'oke.fb15k237_30061990_50'\n",
    "date = '2020.09.29.180047'\n",
    "run = f'distmult.{text_encoder_name}.{date}'\n",
    "\n",
    "glob = (ryn.ENV.TEXT_DIR / 'mapper' / dataset / run).glob('weights/ryn/*/checkpoints/*')\n",
    "available = {int(p.name[6:].split('.')[0]): p for p in glob}\n",
    "\n",
    "print('checkpoints available for epochs: ', list(available))"
   ]
  },
  {
   "cell_type": "code",
   "execution_count": null,
   "metadata": {
    "collapsed": false
   },
   "outputs": [],
   "source": [
    "EPOCH = 7\n",
    "model_path = available[EPOCH]"
   ]
  },
  {
   "cell_type": "code",
   "execution_count": null,
   "metadata": {
    "collapsed": false
   },
   "outputs": [],
   "source": [
    "# load config\n",
    "wandb_id = model_path.parts[-3]\n",
    "\n",
    "# they change the date format from YYYY.mm.dd.HHMMSS to YYYYmmdd_HHMMSS for whatever reasons\n",
    "wandb_date = ''.join(date.split('.', maxsplit=2)).replace('.', '_')\n",
    "\n",
    "config_path = (\n",
    "    model_path.parents[4] / 'wandb' /\n",
    "    f'run-{wandb_date}-{wandb_id}' / 'files' / 'config.yaml')\n",
    "\n",
    "print(config_path)\n",
    "\n",
    "import yaml\n",
    "with config_path.open(mode='rb') as fd:\n",
    "    config = yaml.load(fd, Loader=yaml.FullLoader)\n",
    "\n",
    "print('loaded config')"
   ]
  },
  {
   "cell_type": "code",
   "execution_count": null,
   "metadata": {
    "collapsed": false
   },
   "outputs": [],
   "source": [
    "from ryn.text import mapper\n",
    "\n",
    "mapper_config = mapper.MapperConfig(**config['mapper_config']['value'])\n",
    "model = mapper.Mapper.from_config(config=mapper_config, text_encoder_name=text_encoder_name)"
   ]
  },
  {
   "cell_type": "code",
   "execution_count": null,
   "metadata": {
    "collapsed": false
   },
   "outputs": [],
   "source": [
    "# load weights\n",
    "import torch\n",
    "weights = torch.load(model_path)\n",
    "\n",
    "model.load_state_dict(weights['state_dict'])\n",
    "model.eval()\n",
    "print('loaded model')"
   ]
  },
  {
   "cell_type": "code",
   "execution_count": null,
   "metadata": {
    "collapsed": false
   },
   "outputs": [],
   "source": [
    "model(\n",
    "    sentences=torch.Tensor([(101, 11696, 1106, 9235, 1103, 2037, 5097, 1104, 103, 118, 2272, 4237, 119, 102), ]).to(dtype=torch.long, device=model.device),\n",
    "    entities=torch.Tensor([(0, )]).to(dtype=torch.long, device=model.device))"
   ]
  }
 ],
 "metadata": {
  "kernelspec": {
   "argv": [
    "python",
    "-m",
    "ipykernel_launcher",
    "-f",
    "{connection_file}"
   ],
   "display_name": "Python 3",
   "env": null,
   "interrupt_mode": "signal",
   "language": "python",
   "metadata": null,
   "name": "python3"
  },
  "language_info": {
   "codemirror_mode": {
    "name": "ipython",
    "version": 3
   },
   "file_extension": ".py",
   "mimetype": "text/x-python",
   "name": "python",
   "nbconvert_exporter": "python",
   "pygments_lexer": "ipython3",
   "version": "3.8.3"
  },
  "name": "text.mapper.ipynb"
 },
 "nbformat": 4,
 "nbformat_minor": 4
}
