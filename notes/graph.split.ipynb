{
 "cells": [
  {
   "cell_type": "code",
   "execution_count": 4,
   "metadata": {
    "collapsed": false
   },
   "outputs": [
    {
     "name": "stdout",
     "output_type": "stream",
     "text": [
      "The autoreload extension is already loaded. To reload it, use:\n",
      "  %reload_ext autoreload\n"
     ]
    }
   ],
   "source": [
    "%load_ext autoreload\n",
    "%autoreload 2\n",
    "\n",
    "import os\n",
    "import pathlib\n",
    "cwd = pathlib.Path.cwd()\n",
    "if cwd.name != 'ryn':\n",
    "    print('changing directory')\n",
    "    os.chdir(cwd.parent)\n",
    "\n",
    "import logging\n",
    "logger = logging.getLogger()\n",
    "\n",
    "# seeds = [30061990, 8051991, 25031990, 2041992]\n",
    "seeds = [30061990, ]\n",
    "logger.setLevel(logging.INFO)"
   ]
  },
  {
   "cell_type": "code",
   "execution_count": 2,
   "metadata": {
    "collapsed": false
   },
   "outputs": [
    {
     "name": "stdout",
     "output_type": "stream",
     "text": [
      "loaded ryn graph: oke.fb15k237-trainvalidtest\n",
      "  nodes: 14541\n",
      "  edges: 310116 (237 types)\n",
      "  degree:\n",
      "    mean 42.65\n",
      "    median 26\n",
      "\n"
     ]
    },
    {
     "name": "stdout",
     "output_type": "stream",
     "text": [
      "retrieved 237 relations\n"
     ]
    },
    {
     "ename": "AttributeError",
     "evalue": "module 'ryn.graphs.split' has no attribute 'SoftConfig'",
     "output_type": "error",
     "traceback": [
      "\u001b[0;31m---------------------------------------------------------------------------\u001b[0m",
      "\u001b[0;31mAttributeError\u001b[0m                            Traceback (most recent call last)",
      "\u001b[0;32m<ipython-input-2-c26a0d1ccfee>\u001b[0m in \u001b[0;36m<module>\u001b[0;34m\u001b[0m\n\u001b[1;32m      9\u001b[0m \u001b[0mprint\u001b[0m\u001b[0;34m(\u001b[0m\u001b[0;34mf'retrieved {len(rels)} relations'\u001b[0m\u001b[0;34m)\u001b[0m\u001b[0;34m\u001b[0m\u001b[0;34m\u001b[0m\u001b[0m\n\u001b[1;32m     10\u001b[0m \u001b[0;34m\u001b[0m\u001b[0m\n\u001b[0;32m---> 11\u001b[0;31m soft_cfg = split.SoftConfig(\n\u001b[0m\u001b[1;32m     12\u001b[0m     \u001b[0mowcw_split\u001b[0m\u001b[0;34m=\u001b[0m\u001b[0;36m.7\u001b[0m\u001b[0;34m,\u001b[0m \u001b[0mtrainvalid_split\u001b[0m\u001b[0;34m=\u001b[0m\u001b[0;36m.7\u001b[0m\u001b[0;34m,\u001b[0m \u001b[0mpathname\u001b[0m\u001b[0;34m=\u001b[0m\u001b[0;34m'soft'\u001b[0m\u001b[0;34m,\u001b[0m\u001b[0;34m\u001b[0m\u001b[0;34m\u001b[0m\u001b[0m\n\u001b[1;32m     13\u001b[0m     prob_a=3, prob_o=len(rels) / 2, prob_s=1/20)\n",
      "\u001b[0;31mAttributeError\u001b[0m: module 'ryn.graphs.split' has no attribute 'SoftConfig'"
     ]
    }
   ],
   "source": [
    "from ryn.graphs import split\n",
    "from ryn.graphs import loader\n",
    "\n",
    "g = loader.load_graphs_from_uri('oke.fb15k237-trainvalidtest')[0]\n",
    "print(f'loaded {g.str_stats}')\n",
    "\n",
    "rels = split.Relation.from_graph(g)\n",
    "rels.sort(key=lambda rel: rel.ratio)\n",
    "print(f'retrieved {len(rels)} relations')\n",
    "\n",
    "soft_cfg = split.SoftConfig(\n",
    "    owcw_split=.7, trainvalid_split=.7, pathname='soft',\n",
    "    prob_a=3, prob_o=len(rels) / 2, prob_s=1/20)"
   ]
  },
  {
   "cell_type": "code",
   "execution_count": null,
   "metadata": {
    "collapsed": false
   },
   "outputs": [],
   "source": [
    "from tabulate import tabulate\n",
    "\n",
    "rows = [(r.r, r.ratio, len(r.hs), len(r.ts), r.name) for r in rels]\n",
    "\n",
    "N = 5\n",
    "\n",
    "print(f'first {N}')\n",
    "print(tabulate(rows[:N]))\n",
    "\n",
    "print(f'mid {N}')\n",
    "m = len(rows) / 2\n",
    "print(tabulate(rows[int(m-N/2):int(m+N/2)]))\n",
    "\n",
    "print(f'last {N}')\n",
    "print(tabulate(rows[-N:]))"
   ]
  },
  {
   "cell_type": "code",
   "execution_count": 9,
   "metadata": {
    "collapsed": false
   },
   "outputs": [
    {
     "name": "stdout",
     "output_type": "stream",
     "text": [
      "\n"
     ]
    },
    {
     "data": {
      "image/png": "[encoded data removed]",
      "text/plain": [
       "<Figure size 432x288 with 1 Axes>"
      ]
     },
     "metadata": {},
     "output_type": "display_data"
    },
    {
     "name": "stdout",
     "output_type": "stream",
     "text": [
      "\n"
     ]
    }
   ],
   "source": [
    "import ryn\n",
    "from ryn.common import plotter\n",
    "\n",
    "path = ryn.ENV.SPLIT_DIR / f'{g.name}.ratio'\n",
    "path.parent.mkdir(exist_ok=True, parents=True)\n",
    "\n",
    "plt = plotter.Plotter(title=f'Ratio Distribution {g.name}', xlabel='Relation', ylabel='Ratio', fname=str(path))\n",
    "plt.ax.scatter(range(len(rels)), [r.ratio for r in rels], color=plotter.CLR[0], s=1)\n",
    "\n",
    "print()\n",
    "plt.plot()\n",
    "print()"
   ]
  },
  {
   "cell_type": "code",
   "execution_count": 8,
   "metadata": {
    "collapsed": false
   },
   "outputs": [
    {
     "name": "stdout",
     "output_type": "stream",
     "text": [
      "creating a hard split, keeping concepts of 10 relations\n"
     ]
    },
    {
     "name": "stdout",
     "output_type": "stream",
     "text": [
      "done\n",
      "creating a hard split, keeping concepts of 20 relations\n"
     ]
    },
    {
     "name": "stdout",
     "output_type": "stream",
     "text": [
      "done\n",
      "creating a hard split, keeping concepts of 30 relations\n"
     ]
    },
    {
     "name": "stdout",
     "output_type": "stream",
     "text": [
      "done\n",
      "creating a hard split, keeping concepts of 40 relations\n"
     ]
    },
    {
     "name": "stdout",
     "output_type": "stream",
     "text": [
      "done\n",
      "creating a hard split, keeping concepts of 50 relations\n"
     ]
    },
    {
     "name": "stdout",
     "output_type": "stream",
     "text": [
      "done\n",
      "creating a hard split, keeping concepts of 60 relations\n"
     ]
    },
    {
     "name": "stdout",
     "output_type": "stream",
     "text": [
      "done\n",
      "creating a hard split, keeping concepts of 70 relations\n"
     ]
    },
    {
     "name": "stdout",
     "output_type": "stream",
     "text": [
      "done\n",
      "creating a hard split, keeping concepts of 80 relations\n"
     ]
    },
    {
     "name": "stdout",
     "output_type": "stream",
     "text": [
      "done\n",
      "creating a hard split, keeping concepts of 90 relations\n"
     ]
    },
    {
     "name": "stdout",
     "output_type": "stream",
     "text": [
      "done\n",
      "creating a hard split, keeping concepts of 100 relations\n"
     ]
    },
    {
     "name": "stdout",
     "output_type": "stream",
     "text": [
      "done\n",
      "creating a hard split, keeping concepts of 110 relations\n"
     ]
    },
    {
     "name": "stdout",
     "output_type": "stream",
     "text": [
      "done\n",
      "creating a hard split, keeping concepts of 120 relations\n"
     ]
    },
    {
     "name": "stdout",
     "output_type": "stream",
     "text": [
      "done\n",
      "creating a hard split, keeping concepts of 130 relations\n"
     ]
    },
    {
     "name": "stdout",
     "output_type": "stream",
     "text": [
      "done\n",
      "creating a hard split, keeping concepts of 140 relations\n"
     ]
    },
    {
     "name": "stdout",
     "output_type": "stream",
     "text": [
      "done\n"
     ]
    }
   ],
   "source": [
    "import ryn\n",
    "\n",
    "rows = []\n",
    "for i in range(1, 15):\n",
    "    cfg = split.Config(\n",
    "        owcw_split=0.7,\n",
    "        trainvalid_split=0.7,\n",
    "        threshold=i * 10)\n",
    "\n",
    "    print(f'creating a hard split, keeping concepts of {cfg.threshold} relations')\n",
    "    for stats in split.create(g, cfg, rels, seeds):\n",
    "        rows.append(stats)\n",
    "\n",
    "split.stats_rows(ryn.ENV.SPLIT_DIR, rows)"
   ]
  }
 ],
 "metadata": {
  "kernelspec": {
   "argv": [
    "python",
    "-m",
    "ipykernel_launcher",
    "-f",
    "{connection_file}"
   ],
   "display_name": "Python 3",
   "env": null,
   "interrupt_mode": "signal",
   "language": "python",
   "metadata": null,
   "name": "python3"
  },
  "language_info": {
   "codemirror_mode": {
    "name": "ipython",
    "version": 3
   },
   "file_extension": ".py",
   "mimetype": "text/x-python",
   "name": "python",
   "nbconvert_exporter": "python",
   "pygments_lexer": "ipython3",
   "version": "3.8.2"
  },
  "name": "graph.split.ipynb"
 },
 "nbformat": 4,
 "nbformat_minor": 4
}
