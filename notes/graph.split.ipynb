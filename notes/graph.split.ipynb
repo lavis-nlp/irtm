{
 "cells": [
  {
   "cell_type": "code",
   "execution_count": 1,
   "metadata": {
    "autoscroll": false,
    "ein.hycell": false,
    "ein.tags": "worksheet-0",
    "slideshow": {
     "slide_type": "-"
    }
   },
   "outputs": [
    {
     "name": "stdout",
     "output_type": "stream",
     "text": [
      "changing directory\n"
     ]
    }
   ],
   "source": [
    "%load_ext autoreload\n",
    "%autoreload 2\n",
    "\n",
    "from ryn.common import helper\n",
    "helper.notebook()"
   ]
  },
  {
   "cell_type": "code",
   "execution_count": 8,
   "metadata": {
    "autoscroll": false,
    "ein.hycell": false,
    "ein.tags": "worksheet-0",
    "slideshow": {
     "slide_type": "-"
    }
   },
   "outputs": [
    {
     "name": "stdout",
     "output_type": "stream",
     "text": [
      "loaded ryn graph: oke.fb15k237-trainvalidtest\n",
      "  nodes: 14541\n",
      "  edges: 310116 (237 types)\n",
      "  degree:\n",
      "    mean 42.65\n",
      "    median 26\n",
      "\n",
      "retrieved 237 relations\n"
     ]
    }
   ],
   "source": [
    "from ryn.graphs import split\n",
    "from ryn.graphs import loader\n",
    "\n",
    "# g = loader.load_graphs_from_uri('cde.m-trainvalidtest')[0]\n",
    "g = loader.load_graphs_from_uri('oke.fb15k237-trainvalidtest')[0]\n",
    "\n",
    "print(f'loaded {g.str_stats}')\n",
    "\n",
    "rels = split.Relation.from_graph(g)\n",
    "rels.sort(key=lambda rel: rel.ratio)\n",
    "print(f'retrieved {len(rels)} relations')"
   ]
  },
  {
   "cell_type": "code",
   "execution_count": 9,
   "metadata": {
    "autoscroll": false,
    "ein.hycell": false,
    "ein.tags": "worksheet-0",
    "slideshow": {
     "slide_type": "-"
    }
   },
   "outputs": [
    {
     "name": "stdout",
     "output_type": "stream",
     "text": [
      "first 10\n",
      "--  ---  -----------  ----  -  ---------------------------------------------------------------------------------------------------\n",
      " 1   25  0.000229148  4364  1  /common/topic/webpage./common/webpage/category\n",
      " 2   43  0.000441501  4530  2  /people/person/gender\n",
      " 3  120  0.0010352     966  1  /location/hud_foreclosure_area/estimated_number_of_mortgages./measurement_unit/dated_integer/source\n",
      " 4   85  0.00119976   3334  4  /people/person/spouse_s./people/marriage/type_of_union\n",
      " 5  118  0.0020284     493  1  /user/tsegaran/random/taxonomy_subject/entry./user/tsegaran/random/taxonomy_entry/taxonomy\n",
      " 6   33  0.00218341    458  1  /location/statistical_region/rent50_2./measurement_unit/dated_money_value/currency\n",
      " 7   11  0.00307503   1626  5  /film/film/release_date_s./film/film_regional_release_date/film_release_distribution_medium\n",
      " 8  110  0.0037594     266  1  /tv/tv_producer/programs_produced./tv/tv_producer_term/producer_type\n",
      " 9   34  0.00475867   1471  7  /film/film/estimated_budget./measurement_unit/dated_money_value/currency\n",
      "10   60  0.0051458     583  3  /base/schemastaging/person_extra/net_worth./measurement_unit/dated_money_value/currency\n",
      "--  ---  -----------  ----  -  ---------------------------------------------------------------------------------------------------\n"
     ]
    }
   ],
   "source": [
    "from tabulate import tabulate\n",
    "\n",
    "rows = [(i, r.r, r.ratio, len(r.hs), len(r.ts), r.name) for i, r in enumerate(rels, 1)]\n",
    "\n",
    "N = 10\n",
    "\n",
    "print(f'first {N}')\n",
    "print(tabulate(rows[:N]))\n",
    "\n",
    "# print(f'mid {N}')\n",
    "# m = len(rows) / 2\n",
    "# print(tabulate(rows[int(m-N/2):int(m+N/2)]))\n",
    "\n",
    "# print(f'last {N}')\n",
    "# print(tabulate(rows[-N:]))"
   ]
  },
  {
   "cell_type": "code",
   "execution_count": 10,
   "metadata": {
    "scrolled": false
   },
   "outputs": [
    {
     "name": "stdout",
     "output_type": "stream",
     "text": [
      "\n",
      "i=1 r.r=25 0.0002 /common/topic/webpage./common/webpage/category len(r.triples)=4364\n",
      "     e=62 /m/08mbj5d\n",
      "\n",
      "i=2 r.r=43 0.0004 /people/person/gender len(r.triples)=4530\n",
      "     e=384 female organism\n",
      "     e=141 male organism\n",
      "\n",
      "i=3 r.r=120 0.0010 /location/hud_foreclosure_area/estimated_number_of_mortgages./measurement_unit/dated_integer/source len(r.triples)=966\n",
      "     e=791 United States Department of Housing and Urban Development\n",
      "\n",
      "i=4 r.r=85 0.0012 /people/person/spouse_s./people/marriage/type_of_union len(r.triples)=3557\n",
      "     e=1665 domestic partnership\n",
      "     e=434 marriage\n",
      "     e=12077 civil union\n",
      "     e=11461 common-law marriage\n",
      "\n",
      "i=5 r.r=118 0.0020 /user/tsegaran/random/taxonomy_subject/entry./user/tsegaran/random/taxonomy_entry/taxonomy len(r.triples)=493\n",
      "     e=774 Library of Congress Classification\n",
      "\n",
      "i=6 r.r=33 0.0022 /location/statistical_region/rent50_2./measurement_unit/dated_money_value/currency len(r.triples)=458\n",
      "     e=90 United States dollar\n",
      "\n",
      "i=7 r.r=11 0.0031 /film/film/release_date_s./film/film_regional_release_date/film_release_distribution_medium len(r.triples)=1749\n",
      "     e=1794 television\n",
      "     e=10567 video\n",
      "     e=490 Blu-ray Disc\n",
      "     e=23 DVD\n",
      "     e=1885 streaming media\n",
      "\n",
      "i=8 r.r=110 0.0038 /tv/tv_producer/programs_produced./tv/tv_producer_term/producer_type len(r.triples)=266\n",
      "     e=494 executive producer\n",
      "\n",
      "i=9 r.r=34 0.0048 /film/film/estimated_budget./measurement_unit/dated_money_value/currency len(r.triples)=1471\n",
      "     e=7607 Australian dollar\n",
      "     e=2023 Canadian dollar\n",
      "     e=5422 Euro\n",
      "     e=10391 Indian rupee\n",
      "     e=90 United States dollar\n",
      "\n",
      "i=10 r.r=60 0.0051 /base/schemastaging/person_extra/net_worth./measurement_unit/dated_money_value/currency len(r.triples)=583\n",
      "     e=90 United States dollar\n",
      "     e=924 pound sterling\n",
      "     e=5422 Euro\n"
     ]
    }
   ],
   "source": [
    "N, M = 10, 5\n",
    "\n",
    "# i=28 r.r=43 0.2353 P50:author\n",
    "\n",
    "gen =  rels[:N]\n",
    "# gen = [r for r in rels if r.name in whitelist]\n",
    "\n",
    "for i, r in enumerate(gen, 1):\n",
    "    print(f'\\n{i=} {r.r=} {r.ratio:2.4f} {r.name[:100]} {len(r.triples)=}')\n",
    "    ents = r.hs if len(r.hs) < len(r.ts) else r.ts\n",
    "    for e in list(ents)[:M]:\n",
    "        print('    ', f'{e=}', g.source.ents[e])"
   ]
  },
  {
   "cell_type": "code",
   "execution_count": 12,
   "metadata": {
    "autoscroll": false,
    "ein.hycell": false,
    "ein.tags": "worksheet-0",
    "slideshow": {
     "slide_type": "-"
    }
   },
   "outputs": [
    {
     "name": "stdout",
     "output_type": "stream",
     "text": [
      "\n"
     ]
    },
    {
     "data": {
      "image/png": "[encoded data removed]",
      "text/plain": [
       "<Figure size 432x288 with 1 Axes>"
      ]
     },
     "metadata": {},
     "output_type": "display_data"
    },
    {
     "name": "stdout",
     "output_type": "stream",
     "text": [
      "\n"
     ]
    }
   ],
   "source": [
    "# name, threshold = \"CoDEx-M\", 27\n",
    "name, threshold = \"FB15k237\", 100\n",
    "\n",
    "import ryn\n",
    "from ryn.common import plotter\n",
    "\n",
    "path = ryn.ENV.SPLIT_DIR / f'{g.name}.ratio'\n",
    "path.parent.mkdir(exist_ok=True, parents=True)\n",
    "\n",
    "plt = plotter.Plotter(title=f'Ratio Distribution {name or g.name}', xlabel='Relation', ylabel='Ratio', fname=str(path))\n",
    "plt.ax.plot(range(len(rels)), [r.ratio for r in rels], color=plotter.CLR[0]) # , marker=\".\")\n",
    "plt.ax.vlines(threshold, 0, 1, color=plotter.CLR[0], linestyle='dotted')\n",
    "\n",
    "print()\n",
    "plt.plot()\n",
    "print()"
   ]
  },
  {
   "cell_type": "code",
   "execution_count": null,
   "metadata": {},
   "outputs": [],
   "source": []
  }
 ],
 "metadata": {
  "kernelspec": {
   "display_name": "Python 3",
   "language": "python",
   "name": "python3"
  },
  "language_info": {
   "codemirror_mode": {
    "name": "ipython",
    "version": 3
   },
   "file_extension": ".py",
   "mimetype": "text/x-python",
   "name": "python",
   "nbconvert_exporter": "python",
   "pygments_lexer": "ipython3",
   "version": "3.8.6"
  },
  "name": "graph.split.ipynb"
 },
 "nbformat": 4,
 "nbformat_minor": 4
}
