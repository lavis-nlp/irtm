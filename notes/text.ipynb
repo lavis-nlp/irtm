{
 "cells": [
  {
   "cell_type": "code",
   "execution_count": 1,
   "metadata": {},
   "outputs": [
    {
     "name": "stdout",
     "output_type": "stream",
     "text": [
      "changing directory\n"
     ]
    }
   ],
   "source": [
    "%load_ext autoreload\n",
    "%autoreload 2\n",
    "\n",
    "from ryn.common import helper\n",
    "helper.notebook()"
   ]
  },
  {
   "cell_type": "code",
   "execution_count": 4,
   "metadata": {},
   "outputs": [
    {
     "name": "stdout",
     "output_type": "stream",
     "text": [
      "/data/dok/felix/conda/envs/ryn/lib/python3.8/site-packages/torch/__init__.py\n",
      "True\n"
     ]
    }
   ],
   "source": [
    "import torch\n",
    "print(torch.__file__)\n",
    "print(torch.cuda.is_available())"
   ]
  },
  {
   "cell_type": "code",
   "execution_count": 2,
   "metadata": {},
   "outputs": [
    {
     "ename": "AttributeError",
     "evalue": "'Dataset' object has no attribute 'ow'",
     "output_type": "error",
     "traceback": [
      "\u001b[0;31m---------------------------------------------------------------------------\u001b[0m",
      "\u001b[0;31mAttributeError\u001b[0m                            Traceback (most recent call last)",
      "\u001b[0;32m<ipython-input-2-1506ad989960>\u001b[0m in \u001b[0;36m<module>\u001b[0;34m\u001b[0m\n\u001b[1;32m      8\u001b[0m \u001b[0;34m\u001b[0m\u001b[0m\n\u001b[1;32m      9\u001b[0m \u001b[0mlog\u001b[0m\u001b[0;34m.\u001b[0m\u001b[0merror\u001b[0m\u001b[0;34m(\u001b[0m\u001b[0;34m'---'\u001b[0m\u001b[0;34m)\u001b[0m\u001b[0;34m\u001b[0m\u001b[0;34m\u001b[0m\u001b[0m\n\u001b[0;32m---> 10\u001b[0;31m mapper.train(config=mapper.Config(\n\u001b[0m\u001b[1;32m     11\u001b[0m     \u001b[0mkgc_model\u001b[0m\u001b[0;34m=\u001b[0m\u001b[0mryn\u001b[0m\u001b[0;34m.\u001b[0m\u001b[0mENV\u001b[0m\u001b[0;34m.\u001b[0m\u001b[0mEMBER_DIR\u001b[0m \u001b[0;34m/\u001b[0m \u001b[0mSPLIT\u001b[0m \u001b[0;34m/\u001b[0m \u001b[0;34m'DistMult-256-2020.08.12.120540.777006'\u001b[0m\u001b[0;34m,\u001b[0m\u001b[0;34m\u001b[0m\u001b[0;34m\u001b[0m\u001b[0m\n\u001b[1;32m     12\u001b[0m     \u001b[0mtext_dataset\u001b[0m\u001b[0;34m=\u001b[0m\u001b[0mryn\u001b[0m\u001b[0;34m.\u001b[0m\u001b[0mENV\u001b[0m\u001b[0;34m.\u001b[0m\u001b[0mTEXT_DIR\u001b[0m \u001b[0;34m/\u001b[0m \u001b[0;34m'data'\u001b[0m \u001b[0;34m/\u001b[0m \u001b[0mSPLIT\u001b[0m \u001b[0;34m/\u001b[0m \u001b[0;34m'bert-large-cased.200.256'\u001b[0m\u001b[0;34m,\u001b[0m\u001b[0;34m\u001b[0m\u001b[0;34m\u001b[0m\u001b[0m\n",
      "\u001b[0;32m/data/dok/felix/deepkg/ryn/ryn/text/mapper.py\u001b[0m in \u001b[0;36mtrain\u001b[0;34m(config)\u001b[0m\n\u001b[1;32m    274\u001b[0m \u001b[0;34m\u001b[0m\u001b[0m\n\u001b[1;32m    275\u001b[0m     \u001b[0mtrain\u001b[0m \u001b[0;34m=\u001b[0m \u001b[0mDataset\u001b[0m\u001b[0;34m(\u001b[0m\u001b[0mpart\u001b[0m\u001b[0;34m=\u001b[0m\u001b[0mtext_dataset\u001b[0m\u001b[0;34m.\u001b[0m\u001b[0mcw_train\u001b[0m \u001b[0;34m|\u001b[0m \u001b[0mtext_dataset\u001b[0m\u001b[0;34m.\u001b[0m\u001b[0mcw_valid\u001b[0m\u001b[0;34m)\u001b[0m\u001b[0;34m\u001b[0m\u001b[0;34m\u001b[0m\u001b[0m\n\u001b[0;32m--> 276\u001b[0;31m     \u001b[0mvalid\u001b[0m\u001b[0;34m,\u001b[0m \u001b[0mtest\u001b[0m \u001b[0;34m=\u001b[0m \u001b[0mtdata\u001b[0m\u001b[0;34m.\u001b[0m\u001b[0mrandom_split\u001b[0m\u001b[0;34m(\u001b[0m\u001b[0mDataset\u001b[0m\u001b[0;34m(\u001b[0m\u001b[0mpart\u001b[0m\u001b[0;34m=\u001b[0m\u001b[0mtext_dataset\u001b[0m\u001b[0;34m.\u001b[0m\u001b[0mow\u001b[0m\u001b[0;34m.\u001b[0m\u001b[0mvalid\u001b[0m\u001b[0;34m)\u001b[0m\u001b[0;34m,\u001b[0m \u001b[0;34m)\u001b[0m\u001b[0;34m\u001b[0m\u001b[0;34m\u001b[0m\u001b[0m\n\u001b[0m\u001b[1;32m    277\u001b[0m \u001b[0;34m\u001b[0m\u001b[0m\n\u001b[1;32m    278\u001b[0m     \u001b[0;31m# torment the machine\u001b[0m\u001b[0;34m\u001b[0m\u001b[0;34m\u001b[0m\u001b[0;34m\u001b[0m\u001b[0m\n",
      "\u001b[0;31mAttributeError\u001b[0m: 'Dataset' object has no attribute 'ow'"
     ]
    }
   ],
   "source": [
    "from ryn.common import logging\n",
    "log = logging.get('notebook.text')\n",
    "\n",
    "import ryn\n",
    "from ryn.text import mapper\n",
    "\n",
    "SPLIT = 'oke.fb15k237_30061990_50'\n",
    "\n",
    "log.error('---')\n",
    "mapper.train(config=mapper.Config(\n",
    "    kgc_model=ryn.ENV.EMBER_DIR / SPLIT / 'DistMult-256-2020.08.12.120540.777006',\n",
    "    text_dataset=ryn.ENV.TEXT_DIR / 'data' / SPLIT / 'bert-large-cased.200.256',\n",
    "    aggregator='max pooling',\n",
    "    projector='affine',\n",
    "    projector_args=dict(input_dims=768, output_dims=256),\n",
    "    comparator='euclidean'\n",
    "))"
   ]
  }
 ],
 "metadata": {
  "kernelspec": {
   "display_name": "Python 3",
   "language": "python",
   "name": "python3"
  },
  "language_info": {
   "codemirror_mode": {
    "name": "ipython",
    "version": 3
   },
   "file_extension": ".py",
   "mimetype": "text/x-python",
   "name": "python",
   "nbconvert_exporter": "python",
   "pygments_lexer": "ipython3",
   "version": "3.8.3"
  }
 },
 "nbformat": 4,
 "nbformat_minor": 4
}
