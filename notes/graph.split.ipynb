{
 "cells": [
  {
   "cell_type": "code",
   "execution_count": 1,
   "metadata": {
    "collapsed": false
   },
   "outputs": [],
   "source": [
    "%load_ext autoreload\n",
    "%autoreload 2\n",
    "\n",
    "from ryn.graphs import loader"
   ]
  },
  {
   "cell_type": "code",
   "execution_count": 14,
   "metadata": {
    "collapsed": false
   },
   "outputs": [
    {
     "name": "stdout",
     "output_type": "stream",
     "text": [
      "loaded ryn graph: vll.fb15k237-train\n",
      "  nodes: 14243\n",
      "  edges: 271515 (238 types)\n",
      "  degree:\n",
      "    mean 38.13\n",
      "    median 23\n",
      "\n"
     ]
    }
   ],
   "source": [
    "g = loader.load_graphs_from_uri('vll.fb15k237-train')[0]\n",
    "print(f'loaded {g.str_stats}')"
   ]
  },
  {
   "cell_type": "code",
   "execution_count": 45,
   "metadata": {
    "collapsed": false
   },
   "outputs": [],
   "source": [
    "from dataclasses import dataclass\n",
    "from typing import Set\n",
    "\n",
    "\n",
    "@dataclass\n",
    "class Relation:\n",
    "\n",
    "    r: int\n",
    "    name: str\n",
    "\n",
    "    hs: Set[int]\n",
    "    ts: Set[int]\n",
    "\n",
    "    ratio: float\n",
    "\n",
    "\n",
    "rels = []\n",
    "for r, relname in g.source.rels.items():\n",
    "    hs, ts = map(set, zip(*((h, t) for h, t, _ in g.find(edges={r}))))\n",
    "    lens = len(hs), len(ts)\n",
    "    ratio = min(lens) / max(lens) if len(hs) != len(ts) else 0\n",
    "\n",
    "    rels.append(Relation(\n",
    "        r=r, name=relname,\n",
    "        hs=hs, ts=ts,\n",
    "        ratio=ratio\n",
    "    ))\n",
    "\n",
    "rels.sort(key=lambda rel: rel.ratio)"
   ]
  },
  {
   "cell_type": "code",
   "execution_count": null,
   "metadata": {
    "collapsed": false
   },
   "outputs": [],
   "source": [
    "for rel in rels:\n",
    "    print(f'{3d:rel.}')"
   ]
  }
 ],
 "metadata": {
  "kernelspec": {
   "argv": [
    "python",
    "-m",
    "ipykernel_launcher",
    "-f",
    "{connection_file}"
   ],
   "display_name": "Python 3",
   "env": null,
   "interrupt_mode": "signal",
   "language": "python",
   "metadata": null,
   "name": "python3"
  },
  "language_info": {
   "codemirror_mode": {
    "name": "ipython",
    "version": 3
   },
   "file_extension": ".py",
   "mimetype": "text/x-python",
   "name": "python",
   "nbconvert_exporter": "python",
   "pygments_lexer": "ipython3",
   "version": "3.8.2"
  },
  "name": "graph.split.ipynb"
 },
 "nbformat": 4,
 "nbformat_minor": 4
}
