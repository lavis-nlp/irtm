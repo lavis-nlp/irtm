{
 "cells": [
  {
   "cell_type": "code",
   "execution_count": null,
   "metadata": {},
   "outputs": [],
   "source": [
    "%load_ext autoreload\n",
    "%autoreload 2\n",
    "\n",
    "from ryn.common import helper\n",
    "helper.notebook()\n",
    "\n",
    "import os\n",
    "os.environ['CUDA_VISIBLE_DEVICES'] = '2'"
   ]
  },
  {
   "cell_type": "code",
   "execution_count": null,
   "metadata": {},
   "outputs": [],
   "source": [
    "# https://github.com/pykeen/pykeen\n",
    "\n",
    "import ryn\n",
    "from ryn.embers import keen\n",
    "from ryn.graphs import split\n",
    "\n",
    "from pykeen import pipeline\n",
    "\n",
    "import copy\n",
    "from datetime import datetime\n",
    "\n",
    "model = 'DistMult'\n",
    "embedding_dim = 256\n",
    "epochs = 5\n",
    "\n",
    "path = ryn.ENV.SPLIT_DIR / 'oke.fb15k237_30061990_50/'\n",
    "\n",
    "# load ryn dataset and transform it into pykeen triple factories\n",
    "dataset = split.Dataset.load(path)\n",
    "triples_factory = keen.TripleFactories.create(dataset)\n",
    "\n",
    "# https://pykeen.readthedocs.io/en/latest/reference/pipeline.html\n",
    "kwargs = dict(\n",
    "    model=model,\n",
    "    model_kwargs=dict(embedding_dim=embedding_dim),\n",
    "\n",
    "    optimizer='Adagrad',\n",
    "    optimizer_kwargs=dict(lr=0.01),\n",
    "\n",
    "    training_kwargs=dict(num_epochs=epochs),\n",
    " \n",
    "    stopper='early',\n",
    "    stopper_kwargs=dict(frequency=5, patience=50, delta=0.002),\n",
    "\n",
    "    # important\n",
    "    random_seed=dataset.cfg.seed,\n",
    ")\n",
    "\n",
    "# run training, use custom triple factories\n",
    "result = pipeline.pipeline(\n",
    "\n",
    "        training_triples_factory=triples_factory.train,\n",
    "        validation_triples_factory=triples_factory.valid,\n",
    "        testing_triples_factory=triples_factory.test,\n",
    "    \n",
    "        # pipeline parameters are not saved by pykeen\n",
    "        metadata=dict(\n",
    "            metadata=dict(\n",
    "                dataset_name=dataset.path.name,\n",
    "                dataset_path=str(dataset.path),\n",
    "                graph_name=dataset.g.name,\n",
    "            ),\n",
    "            pipeline=copy.deepcopy(kwargs),\n",
    "        ),\n",
    "\n",
    "        **kwargs)\n",
    "\n",
    "fname = '-'.join((model, str(embedding_dim), str(datetime.now().strftime(keen.DATEFMT)), ))\n",
    "result.save_to_directory(str(ryn.ENV.EMBER_DIR / dataset.path.name / fname))"
   ]
  }
 ],
 "metadata": {
  "kernelspec": {
   "display_name": "Python 3",
   "language": "python",
   "name": "python3"
  },
  "language_info": {
   "codemirror_mode": {
    "name": "ipython",
    "version": 3
   },
   "file_extension": ".py",
   "mimetype": "text/x-python",
   "name": "python",
   "nbconvert_exporter": "python",
   "pygments_lexer": "ipython3",
   "version": "3.8.3"
  }
 },
 "nbformat": 4,
 "nbformat_minor": 4
}
