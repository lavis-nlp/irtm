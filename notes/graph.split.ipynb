{
 "cells": [
  {
   "cell_type": "code",
   "execution_count": 1,
   "metadata": {
    "autoscroll": false,
    "ein.hycell": false,
    "ein.tags": "worksheet-0",
    "slideshow": {
     "slide_type": "-"
    }
   },
   "outputs": [
    {
     "name": "stdout",
     "output_type": "stream",
     "text": [
      "changing directory\n"
     ]
    }
   ],
   "source": [
    "%load_ext autoreload\n",
    "%autoreload 2\n",
    "\n",
    "from ryn.common import helper\n",
    "helper.notebook()"
   ]
  },
  {
   "cell_type": "code",
   "execution_count": 2,
   "metadata": {
    "autoscroll": false,
    "ein.hycell": false,
    "ein.tags": "worksheet-0",
    "slideshow": {
     "slide_type": "-"
    }
   },
   "outputs": [
    {
     "name": "stdout",
     "output_type": "stream",
     "text": [
      "loaded ryn graph: oke.fb15k237-trainvalidtest\n",
      "  nodes: 14541\n",
      "  edges: 310116 (237 types)\n",
      "  degree:\n",
      "    mean 42.65\n",
      "    median 26\n",
      "\n",
      "retrieved 237 relations\n"
     ]
    }
   ],
   "source": [
    "from ryn.graphs import split\n",
    "from ryn.graphs import loader\n",
    "\n",
    "g = loader.load_graphs_from_uri('oke.fb15k237-trainvalidtest')[0]\n",
    "print(f'loaded {g.str_stats}')\n",
    "\n",
    "rels = split.Relation.from_graph(g)\n",
    "rels.sort(key=lambda rel: rel.ratio)\n",
    "print(f'retrieved {len(rels)} relations')"
   ]
  },
  {
   "cell_type": "code",
   "execution_count": 3,
   "metadata": {
    "autoscroll": false,
    "ein.hycell": false,
    "ein.tags": "worksheet-0",
    "slideshow": {
     "slide_type": "-"
    }
   },
   "outputs": [
    {
     "name": "stdout",
     "output_type": "stream",
     "text": [
      "first 20\n",
      "--  ---  -----------  ----  ---  --------------------------------------------------------------------------------------------------------------\n",
      " 1   25  0.000229148  4364    1  /common/topic/webpage./common/webpage/category\n",
      " 2   43  0.000441501  4530    2  /people/person/gender\n",
      " 3  120  0.0010352     966    1  /location/hud_foreclosure_area/estimated_number_of_mortgages./measurement_unit/dated_integer/source\n",
      " 4   85  0.00119976   3334    4  /people/person/spouse_s./people/marriage/type_of_union\n",
      " 5  118  0.0020284     493    1  /user/tsegaran/random/taxonomy_subject/entry./user/tsegaran/random/taxonomy_entry/taxonomy\n",
      " 6   33  0.00218341    458    1  /location/statistical_region/rent50_2./measurement_unit/dated_money_value/currency\n",
      " 7   11  0.00307503   1626    5  /film/film/release_date_s./film/film_regional_release_date/film_release_distribution_medium\n",
      " 8  110  0.0037594     266    1  /tv/tv_producer/programs_produced./tv/tv_producer_term/producer_type\n",
      " 9   34  0.00475867   1471    7  /film/film/estimated_budget./measurement_unit/dated_money_value/currency\n",
      "10   60  0.0051458     583    3  /base/schemastaging/person_extra/net_worth./measurement_unit/dated_money_value/currency\n",
      "11  195  0.0052356     191    1  /base/aareas/schema/administrative_area/administrative_area_type\n",
      "12  167  0.00617284    162    1  /organization/non_profit_organization/registered_with./organization/non_profit_registration/registering_agency\n",
      "13  206  0.00625       160    1  /location/statistical_region/gdp_real./measurement_unit/adjusted_money_value/adjustment_currency\n",
      "14  234  0.00671141    149    1  /location/statistical_region/gni_per_capita_in_ppp_dollars./measurement_unit/dated_money_value/currency\n",
      "15   91  0.00680272    147    1  /tv/tv_program/tv_producer./tv/tv_producer_term/producer_type\n",
      "16  161  0.00770713      4  519  /people/marriage_union_type/unions_of_this_type./people/marriage/location_of_ceremony\n",
      "17    5  0.00806452    744    6  /soccer/football_team/current_roster./soccer/football_roster_position/position\n",
      "18  154  0.00936599   1388   13  /location/location/time_zones\n",
      "19    4  0.00939597    745    7  /soccer/football_team/current_roster./sports/sports_team_roster/position\n",
      "20  213  0.0100503     199    2  /business/business_operation/operating_income./measurement_unit/dated_money_value/currency\n",
      "--  ---  -----------  ----  ---  --------------------------------------------------------------------------------------------------------------\n",
      "mid 20\n",
      "---  ---  --------  ----  ---  ---------------------------------------------------------------------------------------------------\n",
      "109  103  0.188563   122  647  /award/award_ceremony/awards_presented./award/award_honor/honored_for\n",
      "110  112  0.191667    23  120  /education/educational_degree/people_with_this_degree./education/education/major_field_of_study\n",
      "111   72  0.195238   210   41  /olympics/olympic_participating_country/athletes./olympics/olympic_athlete_affiliation/olympics\n",
      "112  203  0.195876   194   38  /film/film/release_date_s./film/film_regional_release_date/film_regional_debut_venue\n",
      "113  116  0.198355  1094  217  /film/film/music\n",
      "114  202  0.2        155   31  /people/deceased_person/place_of_burial\n",
      "115  101  0.209226   607  127  /education/educational_institution/students_graduates./education/education/major_field_of_study\n",
      "116   96  0.212766    94   20  /sports/professional_sports_team/draft_picks./sports/sports_league_draft_pick/draft\n",
      "117  148  0.214286    56   12  /travel/travel_destination/climate./travel/travel_destination_monthly_climate/month\n",
      "118  158  0.220077    57  259  /tv/tv_network/programs./tv/tv_network_duration/program\n",
      "119   62  0.221325   619  137  /base/aareas/schema/administrative_area/administrative_parent\n",
      "120  179  0.222222    81   18  /government/politician/government_positions_held./government/government_position_held/basic_title\n",
      "121  165  0.223214    25  112  /government/political_party/politicians_in_this_party./government/political_party_tenure/politician\n",
      "122  221  0.22449    196   44  /location/country/official_language\n",
      "123   36  0.224719    89   20  /sports/sports_team/roster./american_football/football_historical_roster_position/position_s\n",
      "124  157  0.225806    42  186  /olympics/olympic_games/participating_countries\n",
      "125   41  0.227083   480  109  /music/artist/track_contributions./music/track_contribution/role\n",
      "126   30  0.227493  1033  235  /award/award_winning_work/awards_won./award/award_honor/award\n",
      "127  173  0.228571    24  105  /film/film_set_designer/film_sets_designed\n",
      "128  134  0.230508   295   68  /music/group_member/membership./music/group_membership/role\n",
      "---  ---  --------  ----  ---  ---------------------------------------------------------------------------------------------------\n",
      "last 20\n",
      "---  ---  --------  ----  ----  ------------------------------------------------------------------------------------------------------\n",
      "218   45  0.98928    646   653  /base/popstra/celebrity/friendship./base/popstra/friendship/participant\n",
      "219  175  0.991667   119   120  /people/person/sibling_s./people/sibling_relationship/sibling\n",
      "220    9  0.991736   120   121  /music/performance_role/regular_performances./music/group_membership/role\n",
      "221   75  0.991736   120   121  /music/performance_role/track_performances./music/track_contribution/role\n",
      "222  141  0.994083   168   169  /award/award_winning_work/awards_won./award/award_honor/honored_for\n",
      "223  164  0.994253   174   173  /celebrities/celebrity/sexual_relationships./celebrities/romantic_relationship/celebrity\n",
      "224  190  0.994565   184   183  /location/us_county/county_seat\n",
      "225   97  0.996094   256   255  /award/award_nominated_work/award_nominations./award/award_nomination/nominated_for\n",
      "226    3  0.996292  1612  1618  /award/award_winner/awards_won./award/award_honor/award_winner\n",
      "227    8  0.996588  2337  2345  /award/award_nominee/award_nominations./award/award_nomination/award_nominee\n",
      "228   77  0.996937   653   651  /base/popstra/celebrity/dated./base/popstra/dated/participant\n",
      "229   56  1          563   563  /location/hud_county_place/place\n",
      "230   64  1           58    58  /government/legislative_session/members./government/government_position_held/legislative_sessions\n",
      "231   81  1          552   552  /education/educational_institution_campus/educational_institution\n",
      "232  114  1           12    12  /base/saturdaynightlive/snl_cast_member/seasons./base/saturdaynightlive/snl_season_tenure/cast_members\n",
      "233  146  1          559   559  /education/educational_institution/campuses\n",
      "234  180  1           18    18  /sports/sports_position/players./american_football/football_historical_roster_position/position_s\n",
      "235  218  1           62    62  /location/statistical_region/places_exported_to./location/imports_and_exports/exported_to\n",
      "236  230  1          196   196  /film/film/prequel\n",
      "237  231  1           12    12  /base/localfood/seasonal_month/produce_available./base/localfood/produce_availability/seasonal_months\n",
      "---  ---  --------  ----  ----  ------------------------------------------------------------------------------------------------------\n"
     ]
    }
   ],
   "source": [
    "from tabulate import tabulate\n",
    "\n",
    "rows = [(i, r.r, r.ratio, len(r.hs), len(r.ts), r.name) for i, r in enumerate(rels, 1)]\n",
    "\n",
    "N = 20\n",
    "\n",
    "print(f'first {N}')\n",
    "print(tabulate(rows[:N]))\n",
    "\n",
    "print(f'mid {N}')\n",
    "m = len(rows) / 2\n",
    "print(tabulate(rows[int(m-N/2):int(m+N/2)]))\n",
    "\n",
    "print(f'last {N}')\n",
    "print(tabulate(rows[-N:]))"
   ]
  },
  {
   "cell_type": "code",
   "execution_count": 10,
   "metadata": {
    "autoscroll": false,
    "ein.hycell": false,
    "ein.tags": "worksheet-0",
    "slideshow": {
     "slide_type": "-"
    }
   },
   "outputs": [
    {
     "name": "stdout",
     "output_type": "stream",
     "text": [
      "\n"
     ]
    },
    {
     "data": {
      "image/png": "[encoded data removed]",
      "text/plain": [
       "<Figure size 432x288 with 1 Axes>"
      ]
     },
     "metadata": {},
     "output_type": "display_data"
    },
    {
     "name": "stdout",
     "output_type": "stream",
     "text": [
      "\n"
     ]
    }
   ],
   "source": [
    "import ryn\n",
    "from ryn.common import plotter\n",
    "\n",
    "path = ryn.ENV.SPLIT_DIR / f'{g.name}.ratio'\n",
    "path.parent.mkdir(exist_ok=True, parents=True)\n",
    "\n",
    "plt = plotter.Plotter(title=f'Ratio Distribution {g.name}', xlabel='Relation', ylabel='Ratio', fname=str(path))\n",
    "plt.ax.scatter(range(len(rels)), [r.ratio for r in rels], color=plotter.CLR[0], s=1)\n",
    "plt.ax.vlines(50, 0, 1, color=plotter.CLR[0], linestyle='dotted')\n",
    "\n",
    "print()\n",
    "plt.plot()\n",
    "print()"
   ]
  },
  {
   "cell_type": "code",
   "execution_count": null,
   "metadata": {
    "autoscroll": false,
    "ein.hycell": false,
    "ein.tags": "worksheet-0",
    "slideshow": {
     "slide_type": "-"
    }
   },
   "outputs": [],
   "source": [
    "import ryn\n",
    "\n",
    "for i in range(5, 6):\n",
    "    for seed in seeds:\n",
    "\n",
    "        cfg = split.Config(\n",
    "            seed=seed,\n",
    "            ow_split=0.5,\n",
    "            train_split=0.7,\n",
    "            threshold=i * 10)\n",
    "        \n",
    "        print(f'config: {cfg}')\n",
    "        split.create(g, cfg)\n",
    "        print('done')\n"
   ]
  },
  {
   "cell_type": "code",
   "execution_count": null,
   "metadata": {
    "autoscroll": false,
    "ein.hycell": false,
    "ein.tags": "worksheet-0",
    "slideshow": {
     "slide_type": "-"
    }
   },
   "outputs": [],
   "source": [
    "path = pathlib.Path('data') / 'split' / 'oke.fb15k237_0.50-0.70_50_30061990'\n",
    "# split.analyse(path)\n",
    "dataset = split.Dataset.load(path)\n",
    "print(dataset)"
   ]
  }
 ],
 "metadata": {
  "kernelspec": {
   "display_name": "Python 3",
   "language": "python",
   "name": "python3"
  },
  "language_info": {
   "codemirror_mode": {
    "name": "ipython",
    "version": 3
   },
   "file_extension": ".py",
   "mimetype": "text/x-python",
   "name": "python",
   "nbconvert_exporter": "python",
   "pygments_lexer": "ipython3",
   "version": "3.8.6"
  },
  "name": "graph.split.ipynb"
 },
 "nbformat": 4,
 "nbformat_minor": 4
}
