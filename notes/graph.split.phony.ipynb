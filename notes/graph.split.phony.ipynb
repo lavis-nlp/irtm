{
 "cells": [
  {
   "cell_type": "markdown",
   "metadata": {
    "collapsed": false
   },
   "source": [
    "# Create Phony Split\n",
    "\n",
    "Create a split.Dataset without actually running the splitter.\n",
    "Used to transform other datasets into a format for use by ryn.kgc and ryn.text."
   ]
  },
  {
   "cell_type": "code",
   "execution_count": 1,
   "metadata": {
    "collapsed": false
   },
   "outputs": [
    {
     "name": "stdout",
     "output_type": "stream",
     "text": [
      "changing directory\n"
     ]
    }
   ],
   "source": [
    "from ryn.common import helper\n",
    "helper.notebook()\n",
    "%load_ext autoreload\n",
    "%autoreload 2"
   ]
  },
  {
   "cell_type": "code",
   "execution_count": 2,
   "metadata": {
    "collapsed": false
   },
   "outputs": [
    {
     "name": "stdout",
     "output_type": "stream",
     "text": [
      "ryn graph: oke.fb15k237-train\n",
      "  nodes: 14505\n",
      "  edges: 272115 (237 types)\n",
      "  degree:\n",
      "    mean 37.52\n",
      "    median 22\n"
     ]
    },
    {
     "name": "stdout",
     "output_type": "stream",
     "text": [
      "\n"
     ]
    },
    {
     "name": "stdout",
     "output_type": "stream",
     "text": [
      "ryn graph: oke.fb15k237-valid\n",
      "  nodes: 9809\n",
      "  edges: 17535 (237 types)\n",
      "  degree:\n",
      "    mean 3.58\n",
      "    median 2\n"
     ]
    },
    {
     "name": "stdout",
     "output_type": "stream",
     "text": [
      "\n"
     ]
    },
    {
     "name": "stdout",
     "output_type": "stream",
     "text": [
      "ryn graph: oke.fb15k237-test\n",
      "  nodes: 10348\n",
      "  edges: 20466 (237 types)\n",
      "  degree:\n",
      "    mean 3.96\n",
      "    median 2\n"
     ]
    },
    {
     "name": "stdout",
     "output_type": "stream",
     "text": [
      "\n"
     ]
    }
   ],
   "source": [
    "from ryn.graphs import loader\n",
    "\n",
    "g_train, g_valid, g_test  = loader.load_graphs_from_uri(\n",
    "    'oke.fb15k237-train',\n",
    "    'oke.fb15k237-valid',\n",
    "    'oke.fb15k237-test', )\n",
    "\n",
    "for g in (g_train, g_valid, g_test):\n",
    "    print(g.str_stats)\n"
   ]
  },
  {
   "cell_type": "code",
   "execution_count": 3,
   "metadata": {
    "collapsed": false
   },
   "outputs": [
    {
     "name": "stdout",
     "output_type": "stream",
     "text": [
      "ryn graph: oke.fb15k237-train|oke.fb15k237-valid|oke.fb15k237-test\n",
      "  nodes: 14541\n",
      "  edges: 310116 (237 types)\n",
      "  degree:\n",
      "    mean 42.65\n",
      "    median 26\n"
     ]
    },
    {
     "name": "stdout",
     "output_type": "stream",
     "text": [
      "\n"
     ]
    }
   ],
   "source": [
    "g_all = g_train | g_valid | g_test\n",
    "print(g_all.str_stats)\n"
   ]
  },
  {
   "cell_type": "code",
   "execution_count": 33,
   "metadata": {
    "collapsed": false
   },
   "outputs": [
    {
     "name": "stdout",
     "output_type": "stream",
     "text": [
      "found len(invalid)=8 entities in validation"
     ]
    },
    {
     "name": "stdout",
     "output_type": "stream",
     "text": [
      "\n"
     ]
    },
    {
     "name": "stdout",
     "output_type": "stream",
     "text": [
      "found len(invalid)=28 entities in test"
     ]
    },
    {
     "name": "stdout",
     "output_type": "stream",
     "text": [
      "\n"
     ]
    }
   ],
   "source": [
    "# there are triples with unseen entities in the official FB15k237\n",
    "# benchmark... removing them here:\n",
    "\n",
    "def _ents_from_triples(source):\n",
    "    return set(e for h, t, _ in source for e in (h, t))\n",
    "\n",
    "def _remove_invalid(triples, invalid):\n",
    "    return set(\n",
    "        (h, t, r) for h, t, r in triples\n",
    "        if (h not in invalid) and (t not in invalid))\n",
    "\n",
    "e_train = _ents_from_triples(g_train.source.triples)\n",
    "e_valid = _ents_from_triples(g_valid.source.triples)\n",
    "e_test = _ents_from_triples(g_test.source.triples)\n",
    "\n",
    "# removing invalid validation triples\n",
    "invalid = e_valid - e_train\n",
    "print(f'found {len(invalid)=} entities in validation')\n",
    "train_triples = _remove_invalid(g_train.source.triples, invalid)\n",
    "\n",
    "print(f'removed {len(g_train.source.triples - train_triples)} triples')\n",
    "\n",
    "\n",
    "invalid = e_test - (e_train | e_valid)\n",
    "print(f'found {len(invalid)=} entities in test')"
   ]
  },
  {
   "cell_type": "code",
   "execution_count": 4,
   "metadata": {
    "collapsed": false
   },
   "outputs": [],
   "source": [
    "# create a phony split dataset with empty Parts\n",
    "\n",
    "import ryn\n",
    "from ryn.graphs import split\n",
    "\n",
    "path = ryn.ENV.SPLIT_DIR / 'oke.fb15k237'\n",
    "\n",
    "splitter = split.Splitter(\n",
    "    g=g_all,\n",
    "    name=path.name,\n",
    "    cfg=split.Config(\n",
    "        seed=30061990,\n",
    "        ow_split=0,\n",
    "        train_split=0,\n",
    "        threshold=0,\n",
    "    ),\n",
    ").write(\n",
    "    concepts=set(),\n",
    "    cw=split.Split(\n",
    "        train=train_triples,\n",
    "        valid=valid_triples)),\n",
    "    ow=split.Split(\n",
    "        valid=test_triples),\n",
    "        test=set()),\n",
    ")"
   ]
  },
  {
   "cell_type": "code",
   "execution_count": null,
   "metadata": {
    "collapsed": false
   },
   "outputs": [],
   "source": []
  },
  {
   "cell_type": "code",
   "execution_count": 10,
   "metadata": {
    "collapsed": false
   },
   "outputs": [
    {
     "name": "stdout",
     "output_type": "stream",
     "text": [
      "{14505, 14506, 14507, 14508, 14509, 14510, 14511, 14512}"
     ]
    },
    {
     "name": "stdout",
     "output_type": "stream",
     "text": [
      "\n"
     ]
    },
    {
     "ename": "AssertionError",
     "evalue": "cw.valid contains owe entities",
     "output_type": "error",
     "traceback": [
      "\u001b[0;31m---------------------------------------------------------------------------\u001b[0m",
      "\u001b[0;31mAssertionError\u001b[0m                            Traceback (most recent call last)",
      "\u001b[0;32m<ipython-input-10-37159cbd8176>\u001b[0m in \u001b[0;36m<module>\u001b[0;34m\u001b[0m\n\u001b[0;32m----> 1\u001b[0;31m \u001b[0msplit_dataset\u001b[0m \u001b[0;34m=\u001b[0m \u001b[0msplit\u001b[0m\u001b[0;34m.\u001b[0m\u001b[0mDataset\u001b[0m\u001b[0;34m.\u001b[0m\u001b[0mload\u001b[0m\u001b[0;34m(\u001b[0m\u001b[0mpath\u001b[0m\u001b[0;34m=\u001b[0m\u001b[0mpath\u001b[0m\u001b[0;34m)\u001b[0m\u001b[0;34m\u001b[0m\u001b[0;34m\u001b[0m\u001b[0m\n\u001b[0m\u001b[1;32m      2\u001b[0m \u001b[0mprint\u001b[0m\u001b[0;34m(\u001b[0m\u001b[0msplit_dataset\u001b[0m\u001b[0;34m)\u001b[0m\u001b[0;34m\u001b[0m\u001b[0;34m\u001b[0m\u001b[0m\n",
      "\u001b[0;32m/amigo/LAVIS/felix/deepkg/ryn/ryn/common/helper.py\u001b[0m in \u001b[0;36m__call__\u001b[0;34m(self, path, *args, **kwargs)\u001b[0m\n\u001b[1;32m    122\u001b[0m \u001b[0;34m\u001b[0m\u001b[0m\n\u001b[1;32m    123\u001b[0m         \u001b[0mlog\u001b[0m\u001b[0;34m.\u001b[0m\u001b[0minfo\u001b[0m\u001b[0;34m(\u001b[0m\u001b[0;34mf'cache miss for {name}'\u001b[0m\u001b[0;34m)\u001b[0m\u001b[0;34m\u001b[0m\u001b[0;34m\u001b[0m\u001b[0m\n\u001b[0;32m--> 124\u001b[0;31m         \u001b[0mobj\u001b[0m \u001b[0;34m=\u001b[0m \u001b[0mself\u001b[0m\u001b[0;34m.\u001b[0m\u001b[0mfn\u001b[0m\u001b[0;34m(\u001b[0m\u001b[0;34m*\u001b[0m\u001b[0margs\u001b[0m\u001b[0;34m,\u001b[0m \u001b[0mpath\u001b[0m\u001b[0;34m=\u001b[0m\u001b[0mpath\u001b[0m\u001b[0;34m,\u001b[0m \u001b[0;34m**\u001b[0m\u001b[0mkwargs\u001b[0m\u001b[0;34m)\u001b[0m\u001b[0;34m\u001b[0m\u001b[0;34m\u001b[0m\u001b[0m\n\u001b[0m\u001b[1;32m    125\u001b[0m \u001b[0;34m\u001b[0m\u001b[0m\n\u001b[1;32m    126\u001b[0m         \u001b[0;31m# ---\u001b[0m\u001b[0;34m\u001b[0m\u001b[0;34m\u001b[0m\u001b[0;34m\u001b[0m\u001b[0m\n",
      "\u001b[0;32m/amigo/LAVIS/felix/deepkg/ryn/ryn/graphs/split.py\u001b[0m in \u001b[0;36mload\u001b[0;34m(K, path)\u001b[0m\n\u001b[1;32m    349\u001b[0m             **parts)\n\u001b[1;32m    350\u001b[0m \u001b[0;34m\u001b[0m\u001b[0m\n\u001b[0;32m--> 351\u001b[0;31m         \u001b[0mself\u001b[0m\u001b[0;34m.\u001b[0m\u001b[0mcheck\u001b[0m\u001b[0;34m(\u001b[0m\u001b[0;34m)\u001b[0m\u001b[0;34m\u001b[0m\u001b[0;34m\u001b[0m\u001b[0m\n\u001b[0m\u001b[1;32m    352\u001b[0m         \u001b[0;32mreturn\u001b[0m \u001b[0mself\u001b[0m\u001b[0;34m\u001b[0m\u001b[0;34m\u001b[0m\u001b[0m\n\u001b[1;32m    353\u001b[0m \u001b[0;34m\u001b[0m\u001b[0m\n",
      "\u001b[0;32m/amigo/LAVIS/felix/deepkg/ryn/ryn/graphs/split.py\u001b[0m in \u001b[0;36mcheck\u001b[0;34m(self)\u001b[0m\n\u001b[1;32m    261\u001b[0m         assert self.cw_train.owe == self.cw_train.entities, (\n\u001b[1;32m    262\u001b[0m             'cw.train owe != cw.train entities')\n\u001b[0;32m--> 263\u001b[0;31m         assert not len(self.cw_valid.owe), (\n\u001b[0m\u001b[1;32m    264\u001b[0m             'cw.valid contains owe entities')\n\u001b[1;32m    265\u001b[0m \u001b[0;34m\u001b[0m\u001b[0m\n",
      "\u001b[0;31mAssertionError\u001b[0m: cw.valid contains owe entities"
     ]
    }
   ],
   "source": [
    "split_dataset = split.Dataset.load(path=path)\n",
    "\n",
    "assert len(split_dataset.cw_valid.owe) == 0\n",
    "assert len(split_dataset.ow_valid.owe) == 0\n",
    "assert len(split_dataset.cw_valid.triples) == 0\n",
    "\n",
    "print(split_dataset)"
   ]
  }
 ],
 "metadata": {
  "kernelspec": {
   "argv": [
    "python",
    "-m",
    "ipykernel_launcher",
    "-f",
    "{connection_file}"
   ],
   "display_name": "Python 3",
   "env": null,
   "interrupt_mode": "signal",
   "language": "python",
   "metadata": null,
   "name": "python3"
  },
  "name": "graph.split.phony.ipynb"
 },
 "nbformat": 4,
 "nbformat_minor": 4
}
