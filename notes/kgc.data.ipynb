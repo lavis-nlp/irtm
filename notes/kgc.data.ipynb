{
 "cells": [
  {
   "cell_type": "code",
   "execution_count": 1,
   "metadata": {},
   "outputs": [
    {
     "name": "stdout",
     "output_type": "stream",
     "text": [
      "changing directory\n"
     ]
    }
   ],
   "source": [
    "from ryn.common import helper\n",
    "helper.notebook()\n",
    "\n",
    "%load_ext autoreload\n",
    "%autoreload 2"
   ]
  },
  {
   "cell_type": "markdown",
   "metadata": {},
   "source": [
    "# KGC HPO and data instrospection\n",
    "\n",
    "Sanity checks and somewhat documenting the whole pipeline of kgc training"
   ]
  },
  {
   "cell_type": "code",
   "execution_count": 2,
   "metadata": {},
   "outputs": [],
   "source": [
    "import ryn\n",
    "split_ds_path = ryn.ENV.SPLIT_DIR / 'oke.fb15k237'"
   ]
  },
  {
   "cell_type": "code",
   "execution_count": 3,
   "metadata": {},
   "outputs": [
    {
     "name": "stdout",
     "output_type": "stream",
     "text": [
      "ryn pykeen dataset\n",
      "oke.fb15k237\n",
      "\n",
      "  training triples factory:\n",
      "    entities: 14505\n",
      "    relations: 237\n",
      "    triples: 272115\n",
      "\n",
      "  validation triples factory:\n",
      "    entities: 9799\n",
      "    relations: 223\n",
      "    triples: 17526\n",
      "\n",
      "  testing triples factory:\n",
      "    entities: 10317\n",
      "    relations: 224\n",
      "    triples: 20438\n",
      "\n"
     ]
    }
   ],
   "source": [
    "from ryn.kgc import keen\n",
    "from ryn.graphs import split\n",
    "\n",
    "split_ds = split.Dataset.load(\n",
    "    path=split_ds_path, )\n",
    "\n",
    "# keen.Dataset.create.invalidate()\n",
    "keen_ds = keen.Dataset.create(\n",
    "    name=split_ds.name,\n",
    "    path=split_ds.path,\n",
    "    split_dataset=split_ds, )\n",
    "\n",
    "print(f'{keen_ds}')"
   ]
  },
  {
   "cell_type": "code",
   "execution_count": 4,
   "metadata": {},
   "outputs": [
    {
     "data": {
      "text/plain": [
       "array([['9148:Enemy of the State', '86:/film/film/production_companies',\n",
       "        '7699:Touchstone Pictures'],\n",
       "       ['5886:will.i.am', '43:/people/person/gender',\n",
       "        '141:male organism'],\n",
       "       ['2012:1988 Summer Olympics', '65:/olympics/olympic_games/sports',\n",
       "        '4606:dressage'],\n",
       "       ['6249:Lawless',\n",
       "        '13:/film/film/release_date_s./film/film_regional_release_date/film_release_region',\n",
       "        '1163:Greece'],\n",
       "       ['1330:Master of Arts',\n",
       "        '89:/education/educational_degree/people_with_this_degree./education/education/institution',\n",
       "        '1640:Emmanuel College'],\n",
       "       [\"2585:Olivia d'Abo\",\n",
       "        '232:/film/actor/dubbing_performances./film/dubbing_performance/language',\n",
       "        '160:English'],\n",
       "       ['4538:Cole Porter',\n",
       "        '85:/people/person/spouse_s./people/marriage/type_of_union',\n",
       "        '434:marriage'],\n",
       "       ['2793:Victor Garber',\n",
       "        '45:/base/popstra/celebrity/friendship./base/popstra/friendship/participant',\n",
       "        '5837:Jennifer Garner'],\n",
       "       ['310:acoustic guitar',\n",
       "        '57:/music/performance_role/guest_performances./music/recording_contribution/performance_role',\n",
       "        '6753:mellotron'],\n",
       "       ['156:Tyrese Gibson', '160:/music/artist/origin',\n",
       "        '1327:Los Angeles']], dtype='<U150')"
      ]
     },
     "execution_count": 4,
     "metadata": {},
     "output_type": "execute_result"
    }
   ],
   "source": [
    "# Each keen.Dataset offers access to three\n",
    "# pykeen TripleFactories: training, validation and testing\n",
    "\n",
    "# The strings are prefixed by the ryn id\n",
    "# (otherwise they would not have been unique)\n",
    "\n",
    "keen_ds.training.triples[1020:1030]"
   ]
  },
  {
   "cell_type": "code",
   "execution_count": 5,
   "metadata": {},
   "outputs": [
    {
     "name": "stdout",
     "output_type": "stream",
     "text": [
      "selection=array(['5470:Polydor Records', '76:/music/record_label/artist',\n",
      "       '1952:Pete Townshend'], dtype='<U150')\n",
      "h=5470, r=76, t=1952\n",
      "split_ds.g.source.ents[h]='Polydor Records'\n",
      "split_ds.g.source.ents[t]='Pete Townshend'\n",
      "split_ds.g.source.rels[r]='/music/record_label/artist'\n",
      "(h, t, r) in split_ds.g.source.triples=True\n",
      "{'label': '/music/record_label/artist', 'rid': 76}\n"
     ]
    }
   ],
   "source": [
    "# sanity checking that these triples exist in the original graph\n",
    "\n",
    "selection = keen_ds.training.triples[1000]\n",
    "print(f'{selection=}')\n",
    "\n",
    "# extract ids\n",
    "h, r, t = map(int, map(lambda s: s.split(':', maxsplit=1)[0], selection))\n",
    "print(f'{h=}, {r=}, {t=}')\n",
    "\n",
    "# look in the import source of the original graph\n",
    "print(f'{split_ds.g.source.ents[h]=}')\n",
    "print(f'{split_ds.g.source.ents[t]=}')\n",
    "print(f'{split_ds.g.source.rels[r]=}')\n",
    "\n",
    "print(f'{(h, t, r) in split_ds.g.source.triples=}')\n",
    "print(f'{split_ds.g.nx.edges[h, t, r]}')\n",
    "\n",
    "# alright this looks fine"
   ]
  },
  {
   "cell_type": "code",
   "execution_count": 7,
   "metadata": {},
   "outputs": [
    {
     "name": "stderr",
     "output_type": "stream",
     "text": [
      "wandb: Currently logged in as: kantholtz (use `wandb login --relogin` to force relogin)\n"
     ]
    },
    {
     "data": {
      "text/html": [
       "\n",
       "                Tracking run with wandb version 0.10.7<br/>\n",
       "                Syncing run <strong style=\"color:#cdcd00\">oke.fb15k237-DistMult</strong> to <a href=\"https://wandb.ai\" target=\"_blank\">Weights & Biases</a> <a href=\"https://docs.wandb.com/integrations/jupyter.html\" target=\"_blank\">(Documentation)</a>.<br/>\n",
       "                Project page: <a href=\"https://wandb.ai/kantholtz/ryn-keen-proto\" target=\"_blank\">https://wandb.ai/kantholtz/ryn-keen-proto</a><br/>\n",
       "                Run page: <a href=\"https://wandb.ai/kantholtz/ryn-keen-proto/runs/36eou0bc\" target=\"_blank\">https://wandb.ai/kantholtz/ryn-keen-proto/runs/36eou0bc</a><br/>\n",
       "                Run data is saved locally in <code>wandb/run-20201018_142824-36eou0bc</code><br/><br/>\n",
       "            "
      ],
      "text/plain": [
       "<IPython.core.display.HTML object>"
      ]
     },
     "metadata": {},
     "output_type": "display_data"
    },
    {
     "data": {
      "application/vnd.jupyter.widget-view+json": {
       "model_id": "df4cb2d0ddde47659eaf3e5cf96a0c9e",
       "version_major": 2,
       "version_minor": 0
      },
      "text/plain": [
       "HBox(children=(FloatProgress(value=0.0, description='Training epochs on cuda', max=120.0, style=ProgressStyle(…"
      ]
     },
     "metadata": {},
     "output_type": "display_data"
    },
    {
     "data": {
      "application/vnd.jupyter.widget-view+json": {
       "model_id": "",
       "version_major": 2,
       "version_minor": 0
      },
      "text/plain": [
       "HBox(children=(FloatProgress(value=0.0, description='Training batches on cuda', max=2126.0, style=ProgressStyl…"
      ]
     },
     "metadata": {},
     "output_type": "display_data"
    },
    {
     "data": {
      "application/vnd.jupyter.widget-view+json": {
       "model_id": "",
       "version_major": 2,
       "version_minor": 0
      },
      "text/plain": [
       "HBox(children=(FloatProgress(value=0.0, description='Training batches on cuda', max=2126.0, style=ProgressStyl…"
      ]
     },
     "metadata": {},
     "output_type": "display_data"
    },
    {
     "data": {
      "application/vnd.jupyter.widget-view+json": {
       "model_id": "",
       "version_major": 2,
       "version_minor": 0
      },
      "text/plain": [
       "HBox(children=(FloatProgress(value=0.0, description='Training batches on cuda', max=2126.0, style=ProgressStyl…"
      ]
     },
     "metadata": {},
     "output_type": "display_data"
    },
    {
     "data": {
      "application/vnd.jupyter.widget-view+json": {
       "model_id": "",
       "version_major": 2,
       "version_minor": 0
      },
      "text/plain": [
       "HBox(children=(FloatProgress(value=0.0, description='Training batches on cuda', max=2126.0, style=ProgressStyl…"
      ]
     },
     "metadata": {},
     "output_type": "display_data"
    },
    {
     "data": {
      "application/vnd.jupyter.widget-view+json": {
       "model_id": "",
       "version_major": 2,
       "version_minor": 0
      },
      "text/plain": [
       "HBox(children=(FloatProgress(value=0.0, description='Training batches on cuda', max=2126.0, style=ProgressStyl…"
      ]
     },
     "metadata": {},
     "output_type": "display_data"
    },
    {
     "data": {
      "application/vnd.jupyter.widget-view+json": {
       "model_id": "",
       "version_major": 2,
       "version_minor": 0
      },
      "text/plain": [
       "HBox(children=(FloatProgress(value=0.0, description='Training batches on cuda', max=2126.0, style=ProgressStyl…"
      ]
     },
     "metadata": {},
     "output_type": "display_data"
    },
    {
     "data": {
      "application/vnd.jupyter.widget-view+json": {
       "model_id": "",
       "version_major": 2,
       "version_minor": 0
      },
      "text/plain": [
       "HBox(children=(FloatProgress(value=0.0, description='Training batches on cuda', max=2126.0, style=ProgressStyl…"
      ]
     },
     "metadata": {},
     "output_type": "display_data"
    },
    {
     "data": {
      "application/vnd.jupyter.widget-view+json": {
       "model_id": "",
       "version_major": 2,
       "version_minor": 0
      },
      "text/plain": [
       "HBox(children=(FloatProgress(value=0.0, description='Training batches on cuda', max=2126.0, style=ProgressStyl…"
      ]
     },
     "metadata": {},
     "output_type": "display_data"
    },
    {
     "data": {
      "application/vnd.jupyter.widget-view+json": {
       "model_id": "",
       "version_major": 2,
       "version_minor": 0
      },
      "text/plain": [
       "HBox(children=(FloatProgress(value=0.0, description='Training batches on cuda', max=2126.0, style=ProgressStyl…"
      ]
     },
     "metadata": {},
     "output_type": "display_data"
    },
    {
     "data": {
      "application/vnd.jupyter.widget-view+json": {
       "model_id": "",
       "version_major": 2,
       "version_minor": 0
      },
      "text/plain": [
       "HBox(children=(FloatProgress(value=0.0, description='Training batches on cuda', max=2126.0, style=ProgressStyl…"
      ]
     },
     "metadata": {},
     "output_type": "display_data"
    },
    {
     "data": {
      "application/vnd.jupyter.widget-view+json": {
       "model_id": "",
       "version_major": 2,
       "version_minor": 0
      },
      "text/plain": [
       "HBox(children=(FloatProgress(value=0.0, description='Training batches on cuda', max=2126.0, style=ProgressStyl…"
      ]
     },
     "metadata": {},
     "output_type": "display_data"
    },
    {
     "data": {
      "application/vnd.jupyter.widget-view+json": {
       "model_id": "",
       "version_major": 2,
       "version_minor": 0
      },
      "text/plain": [
       "HBox(children=(FloatProgress(value=0.0, description='Training batches on cuda', max=2126.0, style=ProgressStyl…"
      ]
     },
     "metadata": {},
     "output_type": "display_data"
    },
    {
     "data": {
      "application/vnd.jupyter.widget-view+json": {
       "model_id": "",
       "version_major": 2,
       "version_minor": 0
      },
      "text/plain": [
       "HBox(children=(FloatProgress(value=0.0, description='Training batches on cuda', max=2126.0, style=ProgressStyl…"
      ]
     },
     "metadata": {},
     "output_type": "display_data"
    },
    {
     "data": {
      "application/vnd.jupyter.widget-view+json": {
       "model_id": "",
       "version_major": 2,
       "version_minor": 0
      },
      "text/plain": [
       "HBox(children=(FloatProgress(value=0.0, description='Training batches on cuda', max=2126.0, style=ProgressStyl…"
      ]
     },
     "metadata": {},
     "output_type": "display_data"
    },
    {
     "data": {
      "application/vnd.jupyter.widget-view+json": {
       "model_id": "",
       "version_major": 2,
       "version_minor": 0
      },
      "text/plain": [
       "HBox(children=(FloatProgress(value=0.0, description='Training batches on cuda', max=2126.0, style=ProgressStyl…"
      ]
     },
     "metadata": {},
     "output_type": "display_data"
    },
    {
     "data": {
      "application/vnd.jupyter.widget-view+json": {
       "model_id": "",
       "version_major": 2,
       "version_minor": 0
      },
      "text/plain": [
       "HBox(children=(FloatProgress(value=0.0, description='Training batches on cuda', max=2126.0, style=ProgressStyl…"
      ]
     },
     "metadata": {},
     "output_type": "display_data"
    },
    {
     "data": {
      "application/vnd.jupyter.widget-view+json": {
       "model_id": "",
       "version_major": 2,
       "version_minor": 0
      },
      "text/plain": [
       "HBox(children=(FloatProgress(value=0.0, description='Training batches on cuda', max=2126.0, style=ProgressStyl…"
      ]
     },
     "metadata": {},
     "output_type": "display_data"
    },
    {
     "data": {
      "application/vnd.jupyter.widget-view+json": {
       "model_id": "",
       "version_major": 2,
       "version_minor": 0
      },
      "text/plain": [
       "HBox(children=(FloatProgress(value=0.0, description='Training batches on cuda', max=2126.0, style=ProgressStyl…"
      ]
     },
     "metadata": {},
     "output_type": "display_data"
    },
    {
     "data": {
      "application/vnd.jupyter.widget-view+json": {
       "model_id": "",
       "version_major": 2,
       "version_minor": 0
      },
      "text/plain": [
       "HBox(children=(FloatProgress(value=0.0, description='Training batches on cuda', max=2126.0, style=ProgressStyl…"
      ]
     },
     "metadata": {},
     "output_type": "display_data"
    },
    {
     "data": {
      "application/vnd.jupyter.widget-view+json": {
       "model_id": "",
       "version_major": 2,
       "version_minor": 0
      },
      "text/plain": [
       "HBox(children=(FloatProgress(value=0.0, description='Training batches on cuda', max=2126.0, style=ProgressStyl…"
      ]
     },
     "metadata": {},
     "output_type": "display_data"
    },
    {
     "data": {
      "application/vnd.jupyter.widget-view+json": {
       "model_id": "",
       "version_major": 2,
       "version_minor": 0
      },
      "text/plain": [
       "HBox(children=(FloatProgress(value=0.0, description='Training batches on cuda', max=2126.0, style=ProgressStyl…"
      ]
     },
     "metadata": {},
     "output_type": "display_data"
    },
    {
     "data": {
      "application/vnd.jupyter.widget-view+json": {
       "model_id": "",
       "version_major": 2,
       "version_minor": 0
      },
      "text/plain": [
       "HBox(children=(FloatProgress(value=0.0, description='Training batches on cuda', max=2126.0, style=ProgressStyl…"
      ]
     },
     "metadata": {},
     "output_type": "display_data"
    },
    {
     "data": {
      "application/vnd.jupyter.widget-view+json": {
       "model_id": "d1d57c4771a6473e82f7535e529b1948",
       "version_major": 2,
       "version_minor": 0
      },
      "text/plain": [
       "HBox(children=(FloatProgress(value=0.0, description='Training batches on cuda', max=2126.0, style=ProgressStyl…"
      ]
     },
     "metadata": {},
     "output_type": "display_data"
    },
    {
     "name": "stdout",
     "output_type": "stream",
     "text": [
      "\n"
     ]
    },
    {
     "ename": "KeyboardInterrupt",
     "evalue": "",
     "output_type": "error",
     "traceback": [
      "\u001b[0;31m---------------------------------------------------------------------------\u001b[0m",
      "\u001b[0;31mKeyboardInterrupt\u001b[0m                         Traceback (most recent call last)",
      "\u001b[0;32m<ipython-input-7-69dbafa96653>\u001b[0m in \u001b[0;36m<module>\u001b[0;34m\u001b[0m\n\u001b[1;32m     61\u001b[0m \u001b[0;31m# --\u001b[0m\u001b[0;34m\u001b[0m\u001b[0;34m\u001b[0m\u001b[0;34m\u001b[0m\u001b[0m\n\u001b[1;32m     62\u001b[0m \u001b[0;34m\u001b[0m\u001b[0m\n\u001b[0;32m---> 63\u001b[0;31m pipeline.single(\n\u001b[0m\u001b[1;32m     64\u001b[0m     \u001b[0mconfig\u001b[0m\u001b[0;34m=\u001b[0m\u001b[0mconfig\u001b[0m\u001b[0;34m,\u001b[0m\u001b[0;34m\u001b[0m\u001b[0;34m\u001b[0m\u001b[0m\n\u001b[1;32m     65\u001b[0m     \u001b[0msplit_dataset\u001b[0m\u001b[0;34m=\u001b[0m\u001b[0msplit_ds\u001b[0m\u001b[0;34m,\u001b[0m\u001b[0;34m\u001b[0m\u001b[0;34m\u001b[0m\u001b[0m\n",
      "\u001b[0;32m/amigo/LAVIS/felix/deepkg/ryn/ryn/common/helper.py\u001b[0m in \u001b[0;36m_proxy\u001b[0;34m(*args, **kwargs)\u001b[0m\n\u001b[1;32m     61\u001b[0m                 \u001b[0;32mraise\u001b[0m \u001b[0mRynError\u001b[0m\u001b[0;34m(\u001b[0m\u001b[0mmsg\u001b[0m\u001b[0;34m)\u001b[0m\u001b[0;34m\u001b[0m\u001b[0;34m\u001b[0m\u001b[0m\n\u001b[1;32m     62\u001b[0m \u001b[0;34m\u001b[0m\u001b[0m\n\u001b[0;32m---> 63\u001b[0;31m         \u001b[0;32mreturn\u001b[0m \u001b[0mfn\u001b[0m\u001b[0;34m(\u001b[0m\u001b[0;34m*\u001b[0m\u001b[0margs\u001b[0m\u001b[0;34m,\u001b[0m \u001b[0;34m**\u001b[0m\u001b[0mkwargs\u001b[0m\u001b[0;34m)\u001b[0m\u001b[0;34m\u001b[0m\u001b[0;34m\u001b[0m\u001b[0m\n\u001b[0m\u001b[1;32m     64\u001b[0m \u001b[0;34m\u001b[0m\u001b[0m\n\u001b[1;32m     65\u001b[0m     \u001b[0;32mreturn\u001b[0m \u001b[0m_proxy\u001b[0m\u001b[0;34m\u001b[0m\u001b[0;34m\u001b[0m\u001b[0m\n",
      "\u001b[0;32m/amigo/LAVIS/felix/deepkg/ryn/ryn/kgc/pipeline.py\u001b[0m in \u001b[0;36msingle\u001b[0;34m(config, split_dataset, keen_dataset)\u001b[0m\n\u001b[1;32m     99\u001b[0m \u001b[0;34m\u001b[0m\u001b[0m\n\u001b[1;32m    100\u001b[0m     \u001b[0;31m# losses = training_loop(...\u001b[0m\u001b[0;34m\u001b[0m\u001b[0;34m\u001b[0m\u001b[0;34m\u001b[0m\u001b[0m\n\u001b[0;32m--> 101\u001b[0;31m     training_loop.train(**{\n\u001b[0m\u001b[1;32m    102\u001b[0m         \u001b[0;34m**\u001b[0m\u001b[0mdataclasses\u001b[0m\u001b[0;34m.\u001b[0m\u001b[0masdict\u001b[0m\u001b[0;34m(\u001b[0m\u001b[0mconfig\u001b[0m\u001b[0;34m.\u001b[0m\u001b[0mtraining\u001b[0m\u001b[0;34m)\u001b[0m\u001b[0;34m,\u001b[0m\u001b[0;34m\u001b[0m\u001b[0;34m\u001b[0m\u001b[0m\n\u001b[1;32m    103\u001b[0m         **dict(\n",
      "\u001b[0;32m/amigo/LAVIS/felix/deepkg/ryn/lib/pykeen/src/pykeen/training/training_loop.py\u001b[0m in \u001b[0;36mtrain\u001b[0;34m(self, num_epochs, batch_size, slice_size, label_smoothing, sampler, continue_training, only_size_probing, tqdm_kwargs, stopper, result_tracker, sub_batch_size, num_workers, clear_optimizer)\u001b[0m\n\u001b[1;32m    178\u001b[0m         \u001b[0mtorch\u001b[0m\u001b[0;34m.\u001b[0m\u001b[0mcuda\u001b[0m\u001b[0;34m.\u001b[0m\u001b[0mempty_cache\u001b[0m\u001b[0;34m(\u001b[0m\u001b[0;34m)\u001b[0m\u001b[0;34m\u001b[0m\u001b[0;34m\u001b[0m\u001b[0m\n\u001b[1;32m    179\u001b[0m \u001b[0;34m\u001b[0m\u001b[0m\n\u001b[0;32m--> 180\u001b[0;31m         result = self._train(\n\u001b[0m\u001b[1;32m    181\u001b[0m             \u001b[0mnum_epochs\u001b[0m\u001b[0;34m=\u001b[0m\u001b[0mnum_epochs\u001b[0m\u001b[0;34m,\u001b[0m\u001b[0;34m\u001b[0m\u001b[0;34m\u001b[0m\u001b[0m\n\u001b[1;32m    182\u001b[0m             \u001b[0mbatch_size\u001b[0m\u001b[0;34m=\u001b[0m\u001b[0mbatch_size\u001b[0m\u001b[0;34m,\u001b[0m\u001b[0;34m\u001b[0m\u001b[0;34m\u001b[0m\u001b[0m\n",
      "\u001b[0;32m/amigo/LAVIS/felix/deepkg/ryn/lib/pykeen/src/pykeen/training/training_loop.py\u001b[0m in \u001b[0;36m_train\u001b[0;34m(self, num_epochs, batch_size, slice_size, label_smoothing, sampler, continue_training, only_size_probing, tqdm_kwargs, stopper, result_tracker, sub_batch_size, num_workers)\u001b[0m\n\u001b[1;32m    360\u001b[0m \u001b[0;34m\u001b[0m\u001b[0m\n\u001b[1;32m    361\u001b[0m                     \u001b[0;31m# forward pass call\u001b[0m\u001b[0;34m\u001b[0m\u001b[0;34m\u001b[0m\u001b[0;34m\u001b[0m\u001b[0m\n\u001b[0;32m--> 362\u001b[0;31m                     current_epoch_loss += self._forward_pass(\n\u001b[0m\u001b[1;32m    363\u001b[0m                         \u001b[0mbatch\u001b[0m\u001b[0;34m,\u001b[0m\u001b[0;34m\u001b[0m\u001b[0;34m\u001b[0m\u001b[0m\n\u001b[1;32m    364\u001b[0m                         \u001b[0mstart\u001b[0m\u001b[0;34m,\u001b[0m\u001b[0;34m\u001b[0m\u001b[0;34m\u001b[0m\u001b[0m\n",
      "\u001b[0;32m/amigo/LAVIS/felix/deepkg/ryn/lib/pykeen/src/pykeen/training/training_loop.py\u001b[0m in \u001b[0;36m_forward_pass\u001b[0;34m(self, batch, start, stop, current_batch_size, label_smoothing, slice_size)\u001b[0m\n\u001b[1;32m    421\u001b[0m \u001b[0;34m\u001b[0m\u001b[0m\n\u001b[1;32m    422\u001b[0m         \u001b[0;31m# raise error when non-finite loss occurs (NaN, +/-inf)\u001b[0m\u001b[0;34m\u001b[0m\u001b[0;34m\u001b[0m\u001b[0;34m\u001b[0m\u001b[0m\n\u001b[0;32m--> 423\u001b[0;31m         \u001b[0;32mif\u001b[0m \u001b[0;32mnot\u001b[0m \u001b[0mtorch\u001b[0m\u001b[0;34m.\u001b[0m\u001b[0misfinite\u001b[0m\u001b[0;34m(\u001b[0m\u001b[0mloss\u001b[0m\u001b[0;34m)\u001b[0m\u001b[0;34m:\u001b[0m\u001b[0;34m\u001b[0m\u001b[0;34m\u001b[0m\u001b[0m\n\u001b[0m\u001b[1;32m    424\u001b[0m             \u001b[0;32mraise\u001b[0m \u001b[0mNonFiniteLossError\u001b[0m\u001b[0;34m(\u001b[0m\u001b[0;34m'Loss is non-finite.'\u001b[0m\u001b[0;34m)\u001b[0m\u001b[0;34m\u001b[0m\u001b[0;34m\u001b[0m\u001b[0m\n\u001b[1;32m    425\u001b[0m \u001b[0;34m\u001b[0m\u001b[0m\n",
      "\u001b[0;31mKeyboardInterrupt\u001b[0m: "
     ]
    }
   ],
   "source": [
    "from ryn.kgc import config\n",
    "from ryn.kgc import pipeline\n",
    "from dataclasses import asdict\n",
    "\n",
    "model_name = 'DistMult'\n",
    "\n",
    "config = config.Config(\n",
    "    general=config.General(\n",
    "        dataset=split_ds.name,\n",
    "    ),\n",
    "    tracker=config.Tracker(\n",
    "        cls='wandb',\n",
    "        project='ryn-keen-proto',\n",
    "        experiment=f'{keen_ds.name}-{model_name}',\n",
    "        reinit=True,\n",
    "    ),\n",
    "    model=config.Model(\n",
    "        cls=model_name,\n",
    "        embedding_dim=300,\n",
    "        preferred_device='cuda',\n",
    "        automatic_memory_optimization=False,\n",
    "    ),\n",
    "    optimizer=config.Optimizer(\n",
    "        cls='Adagrad',\n",
    "        lr=0.01,\n",
    "    ),\n",
    "    regularizer=config.Regularizer(\n",
    "        cls='LpRegularizer',\n",
    "        weight=0.1,\n",
    "        p=2.0,\n",
    "        normalize=True,\n",
    "    ),\n",
    "    loss=config.Loss(\n",
    "        cls='MarginRankingLoss',\n",
    "        margin=1.0,\n",
    "        reduction='mean',\n",
    "    ),\n",
    "    evaluator=config.Evaluator(\n",
    "        cls='RankBasedEvaluator',\n",
    "        batch_size=200,\n",
    "    ),\n",
    "    stopper=config.Stopper(\n",
    "        cls='EarlyStopper',\n",
    "        frequency=4,\n",
    "        patience=100,\n",
    "        relative_delta=0.0001,\n",
    "    ),\n",
    "    training_loop=config.TrainingLoop(\n",
    "        cls='SLCWATrainingLoop',\n",
    "    ),\n",
    "    sampler=config.Sampler(\n",
    "        cls='BasicNegativeSampler',\n",
    "        num_negs_per_pos=5,\n",
    "    ),\n",
    "    training=config.Training(\n",
    "        num_epochs=120,\n",
    "        batch_size=128,\n",
    "    ),\n",
    ")\n",
    "\n",
    "# --\n",
    "\n",
    "pipeline.single(\n",
    "    config=config,\n",
    "    split_dataset=split_ds,\n",
    "    keen_dataset=keen_ds, )"
   ]
  }
 ],
 "metadata": {
  "kernelspec": {
   "display_name": "Python 3",
   "language": "python",
   "name": "python3"
  },
  "language_info": {
   "codemirror_mode": {
    "name": "ipython",
    "version": 3
   },
   "file_extension": ".py",
   "mimetype": "text/x-python",
   "name": "python",
   "nbconvert_exporter": "python",
   "pygments_lexer": "ipython3",
   "version": "3.8.3"
  },
  "name": "kgc.data.ipynb"
 },
 "nbformat": 4,
 "nbformat_minor": 4
}
